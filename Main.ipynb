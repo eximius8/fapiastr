{
 "cells": [
  {
   "cell_type": "code",
   "execution_count": 1,
   "id": "ee5bc0d4",
   "metadata": {},
   "outputs": [],
   "source": [
    "from models.datablock import DataBlock\n",
    "from models.sequences import SequenceData, Sequence\n",
    "from crud.datablock import get_latest_datablock, get_datablocks\n",
    "from crud.sequences import get_root_sequences\n",
    "from dbutils.dbconnect import loadSession\n",
    "session = loadSession()"
   ]
  },
  {
   "cell_type": "code",
   "execution_count": 2,
   "id": "5c917add",
   "metadata": {},
   "outputs": [],
   "source": [
    "numblocks, dblocks = get_datablocks(db=session, limit=5000)"
   ]
  },
  {
   "cell_type": "code",
   "execution_count": 3,
   "id": "46d89287",
   "metadata": {},
   "outputs": [
    {
     "name": "stderr",
     "output_type": "stream",
     "text": [
      "IOPub data rate exceeded.\n",
      "The notebook server will temporarily stop sending output\n",
      "to the client in order to avoid crashing it.\n",
      "To change this limit, set the config variable\n",
      "`--NotebookApp.iopub_data_rate_limit`.\n",
      "\n",
      "Current values:\n",
      "NotebookApp.iopub_data_rate_limit=1000000.0 (bytes/sec)\n",
      "NotebookApp.rate_limit_window=3.0 (secs)\n",
      "\n"
     ]
    }
   ],
   "source": [
    "for blk in dblocks:\n",
    "    print(blk._contents)"
   ]
  },
  {
   "cell_type": "code",
   "execution_count": 4,
   "id": "abf9ab7f",
   "metadata": {},
   "outputs": [
    {
     "data": {
      "text/plain": [
       "b'<block>\\n</block>'"
      ]
     },
     "execution_count": 4,
     "metadata": {},
     "output_type": "execute_result"
    }
   ],
   "source": [
    "block1 = get_latest_datablock(db=session, block=819)\n",
    "block1._contents"
   ]
  },
  {
   "cell_type": "code",
   "execution_count": 5,
   "id": "cdda2387",
   "metadata": {},
   "outputs": [
    {
     "data": {
      "text/plain": [
       "[]"
      ]
     },
     "execution_count": 5,
     "metadata": {},
     "output_type": "execute_result"
    }
   ],
   "source": [
    "get_root_sequences(db=session, parent=0)\n",
    "#get_latest_datablock(db=session, block=3).version"
   ]
  },
  {
   "cell_type": "code",
   "execution_count": 6,
   "id": "94fce51a",
   "metadata": {},
   "outputs": [
    {
     "name": "stderr",
     "output_type": "stream",
     "text": [
      "C:\\Users\\mikhail.trunov\\AppData\\Local\\Temp\\ipykernel_9336\\1112841137.py:1: LegacyAPIWarning: The Query.get() method is considered legacy as of the 1.x series of SQLAlchemy and becomes a legacy construct in 2.0. The method is now available as Session.get() (deprecated since: 2.0) (Background on SQLAlchemy 2.0 at: https://sqlalche.me/e/b8d9)\n",
      "  block60 = session.query(DataBlock).get(60)\n"
     ]
    },
    {
     "ename": "InvalidRequestError",
     "evalue": "Incorrect number of values in identifier to formulate primary key for session.get(); primary key columns are 'DataBlock.block','DataBlock.version'",
     "output_type": "error",
     "traceback": [
      "\u001b[1;31m---------------------------------------------------------------------------\u001b[0m",
      "\u001b[1;31mInvalidRequestError\u001b[0m                       Traceback (most recent call last)",
      "Cell \u001b[1;32mIn[6], line 1\u001b[0m\n\u001b[1;32m----> 1\u001b[0m block60 \u001b[38;5;241m=\u001b[39m \u001b[43msession\u001b[49m\u001b[38;5;241;43m.\u001b[39;49m\u001b[43mquery\u001b[49m\u001b[43m(\u001b[49m\u001b[43mDataBlock\u001b[49m\u001b[43m)\u001b[49m\u001b[38;5;241;43m.\u001b[39;49m\u001b[43mget\u001b[49m\u001b[43m(\u001b[49m\u001b[38;5;241;43m60\u001b[39;49m\u001b[43m)\u001b[49m\n",
      "File \u001b[1;32m<string>:2\u001b[0m, in \u001b[0;36mget\u001b[1;34m(self, ident)\u001b[0m\n",
      "File \u001b[1;32m~\\astraia-repos\\fapiastr\\env\\lib\\site-packages\\sqlalchemy\\util\\deprecations.py:386\u001b[0m, in \u001b[0;36m_decorate_with_warning.<locals>.warned\u001b[1;34m(fn, *args, **kwargs)\u001b[0m\n\u001b[0;32m    384\u001b[0m \u001b[38;5;28;01mif\u001b[39;00m \u001b[38;5;129;01mnot\u001b[39;00m skip_warning:\n\u001b[0;32m    385\u001b[0m     _warn_with_version(message, version, wtype, stacklevel\u001b[38;5;241m=\u001b[39m\u001b[38;5;241m3\u001b[39m)\n\u001b[1;32m--> 386\u001b[0m \u001b[38;5;28;01mreturn\u001b[39;00m fn(\u001b[38;5;241m*\u001b[39margs, \u001b[38;5;241m*\u001b[39m\u001b[38;5;241m*\u001b[39mkwargs)\n",
      "File \u001b[1;32m~\\astraia-repos\\fapiastr\\env\\lib\\site-packages\\sqlalchemy\\orm\\query.py:1130\u001b[0m, in \u001b[0;36mQuery.get\u001b[1;34m(self, ident)\u001b[0m\n\u001b[0;32m   1126\u001b[0m \u001b[38;5;28mself\u001b[39m\u001b[38;5;241m.\u001b[39m_no_criterion_assertion(\u001b[38;5;124m\"\u001b[39m\u001b[38;5;124mget\u001b[39m\u001b[38;5;124m\"\u001b[39m, order_by\u001b[38;5;241m=\u001b[39m\u001b[38;5;28;01mFalse\u001b[39;00m, distinct\u001b[38;5;241m=\u001b[39m\u001b[38;5;28;01mFalse\u001b[39;00m)\n\u001b[0;32m   1128\u001b[0m \u001b[38;5;66;03m# we still implement _get_impl() so that baked query can override\u001b[39;00m\n\u001b[0;32m   1129\u001b[0m \u001b[38;5;66;03m# it\u001b[39;00m\n\u001b[1;32m-> 1130\u001b[0m \u001b[38;5;28;01mreturn\u001b[39;00m \u001b[38;5;28;43mself\u001b[39;49m\u001b[38;5;241;43m.\u001b[39;49m\u001b[43m_get_impl\u001b[49m\u001b[43m(\u001b[49m\u001b[43mident\u001b[49m\u001b[43m,\u001b[49m\u001b[43m \u001b[49m\u001b[43mloading\u001b[49m\u001b[38;5;241;43m.\u001b[39;49m\u001b[43mload_on_pk_identity\u001b[49m\u001b[43m)\u001b[49m\n",
      "File \u001b[1;32m~\\astraia-repos\\fapiastr\\env\\lib\\site-packages\\sqlalchemy\\orm\\query.py:1139\u001b[0m, in \u001b[0;36mQuery._get_impl\u001b[1;34m(self, primary_key_identity, db_load_fn, identity_token)\u001b[0m\n\u001b[0;32m   1132\u001b[0m \u001b[38;5;28;01mdef\u001b[39;00m \u001b[38;5;21m_get_impl\u001b[39m(\n\u001b[0;32m   1133\u001b[0m     \u001b[38;5;28mself\u001b[39m,\n\u001b[0;32m   1134\u001b[0m     primary_key_identity: _PKIdentityArgument,\n\u001b[0;32m   1135\u001b[0m     db_load_fn: Callable[\u001b[38;5;241m.\u001b[39m\u001b[38;5;241m.\u001b[39m\u001b[38;5;241m.\u001b[39m, Any],\n\u001b[0;32m   1136\u001b[0m     identity_token: Optional[Any] \u001b[38;5;241m=\u001b[39m \u001b[38;5;28;01mNone\u001b[39;00m,\n\u001b[0;32m   1137\u001b[0m ) \u001b[38;5;241m-\u001b[39m\u001b[38;5;241m>\u001b[39m Optional[Any]:\n\u001b[0;32m   1138\u001b[0m     mapper \u001b[38;5;241m=\u001b[39m \u001b[38;5;28mself\u001b[39m\u001b[38;5;241m.\u001b[39m_only_full_mapper_zero(\u001b[38;5;124m\"\u001b[39m\u001b[38;5;124mget\u001b[39m\u001b[38;5;124m\"\u001b[39m)\n\u001b[1;32m-> 1139\u001b[0m     \u001b[38;5;28;01mreturn\u001b[39;00m \u001b[38;5;28;43mself\u001b[39;49m\u001b[38;5;241;43m.\u001b[39;49m\u001b[43msession\u001b[49m\u001b[38;5;241;43m.\u001b[39;49m\u001b[43m_get_impl\u001b[49m\u001b[43m(\u001b[49m\n\u001b[0;32m   1140\u001b[0m \u001b[43m        \u001b[49m\u001b[43mmapper\u001b[49m\u001b[43m,\u001b[49m\n\u001b[0;32m   1141\u001b[0m \u001b[43m        \u001b[49m\u001b[43mprimary_key_identity\u001b[49m\u001b[43m,\u001b[49m\n\u001b[0;32m   1142\u001b[0m \u001b[43m        \u001b[49m\u001b[43mdb_load_fn\u001b[49m\u001b[43m,\u001b[49m\n\u001b[0;32m   1143\u001b[0m \u001b[43m        \u001b[49m\u001b[43mpopulate_existing\u001b[49m\u001b[38;5;241;43m=\u001b[39;49m\u001b[38;5;28;43mself\u001b[39;49m\u001b[38;5;241;43m.\u001b[39;49m\u001b[43mload_options\u001b[49m\u001b[38;5;241;43m.\u001b[39;49m\u001b[43m_populate_existing\u001b[49m\u001b[43m,\u001b[49m\n\u001b[0;32m   1144\u001b[0m \u001b[43m        \u001b[49m\u001b[43mwith_for_update\u001b[49m\u001b[38;5;241;43m=\u001b[39;49m\u001b[38;5;28;43mself\u001b[39;49m\u001b[38;5;241;43m.\u001b[39;49m\u001b[43m_for_update_arg\u001b[49m\u001b[43m,\u001b[49m\n\u001b[0;32m   1145\u001b[0m \u001b[43m        \u001b[49m\u001b[43moptions\u001b[49m\u001b[38;5;241;43m=\u001b[39;49m\u001b[38;5;28;43mself\u001b[39;49m\u001b[38;5;241;43m.\u001b[39;49m\u001b[43m_with_options\u001b[49m\u001b[43m,\u001b[49m\n\u001b[0;32m   1146\u001b[0m \u001b[43m        \u001b[49m\u001b[43midentity_token\u001b[49m\u001b[38;5;241;43m=\u001b[39;49m\u001b[43midentity_token\u001b[49m\u001b[43m,\u001b[49m\n\u001b[0;32m   1147\u001b[0m \u001b[43m        \u001b[49m\u001b[43mexecution_options\u001b[49m\u001b[38;5;241;43m=\u001b[39;49m\u001b[38;5;28;43mself\u001b[39;49m\u001b[38;5;241;43m.\u001b[39;49m\u001b[43m_execution_options\u001b[49m\u001b[43m,\u001b[49m\n\u001b[0;32m   1148\u001b[0m \u001b[43m    \u001b[49m\u001b[43m)\u001b[49m\n",
      "File \u001b[1;32m~\\astraia-repos\\fapiastr\\env\\lib\\site-packages\\sqlalchemy\\orm\\session.py:3605\u001b[0m, in \u001b[0;36mSession._get_impl\u001b[1;34m(self, entity, primary_key_identity, db_load_fn, options, populate_existing, with_for_update, identity_token, execution_options, bind_arguments)\u001b[0m\n\u001b[0;32m   3600\u001b[0m     primary_key_identity \u001b[38;5;241m=\u001b[39m util\u001b[38;5;241m.\u001b[39mto_list(\n\u001b[0;32m   3601\u001b[0m         primary_key_identity, default\u001b[38;5;241m=\u001b[39m[\u001b[38;5;28;01mNone\u001b[39;00m]\n\u001b[0;32m   3602\u001b[0m     )\n\u001b[0;32m   3604\u001b[0m \u001b[38;5;28;01mif\u001b[39;00m \u001b[38;5;28mlen\u001b[39m(primary_key_identity) \u001b[38;5;241m!=\u001b[39m \u001b[38;5;28mlen\u001b[39m(mapper\u001b[38;5;241m.\u001b[39mprimary_key):\n\u001b[1;32m-> 3605\u001b[0m     \u001b[38;5;28;01mraise\u001b[39;00m sa_exc\u001b[38;5;241m.\u001b[39mInvalidRequestError(\n\u001b[0;32m   3606\u001b[0m         \u001b[38;5;124m\"\u001b[39m\u001b[38;5;124mIncorrect number of values in identifier to formulate \u001b[39m\u001b[38;5;124m\"\u001b[39m\n\u001b[0;32m   3607\u001b[0m         \u001b[38;5;124m\"\u001b[39m\u001b[38;5;124mprimary key for session.get(); primary key columns \u001b[39m\u001b[38;5;124m\"\u001b[39m\n\u001b[0;32m   3608\u001b[0m         \u001b[38;5;124m\"\u001b[39m\u001b[38;5;124mare \u001b[39m\u001b[38;5;132;01m%s\u001b[39;00m\u001b[38;5;124m\"\u001b[39m \u001b[38;5;241m%\u001b[39m \u001b[38;5;124m\"\u001b[39m\u001b[38;5;124m,\u001b[39m\u001b[38;5;124m\"\u001b[39m\u001b[38;5;241m.\u001b[39mjoin(\u001b[38;5;124m\"\u001b[39m\u001b[38;5;124m'\u001b[39m\u001b[38;5;132;01m%s\u001b[39;00m\u001b[38;5;124m'\u001b[39m\u001b[38;5;124m\"\u001b[39m \u001b[38;5;241m%\u001b[39m c \u001b[38;5;28;01mfor\u001b[39;00m c \u001b[38;5;129;01min\u001b[39;00m mapper\u001b[38;5;241m.\u001b[39mprimary_key)\n\u001b[0;32m   3609\u001b[0m     )\n\u001b[0;32m   3611\u001b[0m \u001b[38;5;28;01mif\u001b[39;00m is_dict:\n\u001b[0;32m   3612\u001b[0m     pk_synonyms \u001b[38;5;241m=\u001b[39m mapper\u001b[38;5;241m.\u001b[39m_pk_synonyms\n",
      "\u001b[1;31mInvalidRequestError\u001b[0m: Incorrect number of values in identifier to formulate primary key for session.get(); primary key columns are 'DataBlock.block','DataBlock.version'"
     ]
    }
   ],
   "source": [
    "block60 = session.query(DataBlock).get(60)"
   ]
  },
  {
   "cell_type": "code",
   "execution_count": null,
   "id": "2f7d81c0",
   "metadata": {},
   "outputs": [],
   "source": [
    "data = session.query(SequenceData).filter(SequenceData.block==133)"
   ]
  },
  {
   "cell_type": "code",
   "execution_count": null,
   "id": "4ec1cb2b",
   "metadata": {},
   "outputs": [],
   "source": [
    "data.count()"
   ]
  },
  {
   "cell_type": "code",
   "execution_count": null,
   "id": "f52890cd",
   "metadata": {},
   "outputs": [],
   "source": [
    "data.all()[0].sequence"
   ]
  },
  {
   "cell_type": "code",
   "execution_count": null,
   "id": "749babdd",
   "metadata": {},
   "outputs": [],
   "source": [
    "sequence = session.query(Sequence).filter(Sequence.id==data.all()[0].sequence)"
   ]
  },
  {
   "cell_type": "code",
   "execution_count": null,
   "id": "6ba460a8",
   "metadata": {},
   "outputs": [],
   "source": [
    "sequence.all()[0].dna"
   ]
  },
  {
   "cell_type": "code",
   "execution_count": null,
   "id": "77613497",
   "metadata": {},
   "outputs": [],
   "source": [
    "sequence.all()[0].parent"
   ]
  }
 ],
 "metadata": {
  "kernelspec": {
   "display_name": "Python 3 (ipykernel)",
   "language": "python",
   "name": "python3"
  },
  "language_info": {
   "codemirror_mode": {
    "name": "ipython",
    "version": 3
   },
   "file_extension": ".py",
   "mimetype": "text/x-python",
   "name": "python",
   "nbconvert_exporter": "python",
   "pygments_lexer": "ipython3",
   "version": "3.10.11"
  }
 },
 "nbformat": 4,
 "nbformat_minor": 5
}
