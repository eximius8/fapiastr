{
 "cells": [
  {
   "cell_type": "code",
   "execution_count": 1,
   "id": "08fc1123",
   "metadata": {},
   "outputs": [],
   "source": [
    "import crud.datablock as cruddatablock\n",
    "from dbutils.dbconnect import loadSession\n",
    "import xml.etree.ElementTree as ET"
   ]
  },
  {
   "cell_type": "code",
   "execution_count": 2,
   "id": "105cd8c4",
   "metadata": {},
   "outputs": [],
   "source": [
    "db = loadSession()\n",
    "count, datablocks = cruddatablock.get_datablocks(db=db, skip=0, limit=10000)"
   ]
  },
  {
   "cell_type": "code",
   "execution_count": 3,
   "id": "b475024d",
   "metadata": {},
   "outputs": [],
   "source": [
    "# Антрибуты какие бывают у айтемов в астрайе\n",
    "attribs = set()\n",
    "# Примеры вычисляемых полей\n",
    "calcs = set()\n",
    "for block in datablocks:\n",
    "    root = ET.fromstring(block._contents)\n",
    "\n",
    "    for child in root:\n",
    "        for itm, val in child.attrib.items():\n",
    "            attribs.add(itm)\n",
    "            if itm == 'calc':\n",
    "                calcs.add(val)"
   ]
  },
  {
   "cell_type": "code",
   "execution_count": 5,
   "id": "db424741",
   "metadata": {},
   "outputs": [
    {
     "name": "stdout",
     "output_type": "stream",
     "text": [
      "NEW CALC\n",
      "\n",
      "isnotnull(Outcome.Outcome_GA_weeks) ? Outcome.Outcome_GA_weeks : (((Episode.EDD_LMP || Episode.EDD_US) && isnotnull(gaw(date()))) ? ((gaw(date())) ) : null)\n",
      "NEW CALC\n",
      "\n",
      "isnotnull(OxytocineType.Otype) ? 2 : null\n",
      "NEW CALC\n",
      "\n",
      "(     isnotnull(BPF.BPF_2n) &&     isnotnull(BPF.BPF_3n) &&      isnotnull(BPF.BPF_4n) &&      isnotnull(BPF.BPF_5n) &&      isnotnull(BPF.BPF_6n)     )    ?   sum(BPF.AF_volume1,BPF.Accelerations1,BPF.Body_movements1,BPF.Respiratory_movements1,BPF.Tone1)   :   null   \n",
      "NEW CALC\n",
      "\n",
      "isnotnull(GynIndication.LMP) && isnull(Episode.LMP) ? GynIndication.LMP : Episode.LMP\n",
      "NEW CALC\n",
      "\n",
      "(  isnotnull(BPF.NST_score) &&  isnotnull(BPF.AF_score) &&  isnotnull(BPF.FM_score) &&  isnotnull(BPF.FT_score) &&  isnotnull(BPF.FBM_score)  )  ?   sum(BPF.AF_score,BPF.FM_score,BPF.FT_score,BPF.FBM_score,BPF.NST_score)  :  (  (  isnotnull(BPF.AF_score) &&  isnotnull(BPF.FM_score) &&  isnotnull(BPF.FT_score) &&  isnotnull(BPF.FBM_score)  )  ?  sum(BPF.AF_score,BPF.FM_score,BPF.FT_score,BPF.FBM_score)   :  null  )\n",
      "NEW CALC\n",
      "\n",
      "isnotnull(Fetus.FBS_Haemoglobin) && FBS.Hb_post_measured>Fetus.FBS_Haemoglobin ? (FBS.IVT_Donor_volume+FBS.ICT_Donor_volume+FBS.IPT_Donor_Volume)*(FBS.Hb_donor-FBS.Hb_post_measured)/(FBS.Hb_post_measured-Fetus.FBS_Haemoglobin) : null\n",
      "NEW CALC\n",
      "\n",
      "'(' + dtoc(date()) + '): ' + (((Episode.EDD_LMP || Episode.EDD_US) && isnotnull(gaw(date()))) ? (str(gaw(date())) +' ' + text(53) + ' ' + str(gad(date())) + ' ' + text(9)) : '-')\n",
      "NEW CALC\n",
      "\n",
      "(  isnotnull(BPF.NST_score) &&  isnotnull(BPF.AF_score) &&  isnotnull(BPF.FM_score) &&  isnotnull(BPF.FT_score) &&  isnotnull(BPF.FBM_score)  )  ? 10 :   ((  isnotnull(BPF.AF_score) &&  isnotnull(BPF.FM_score) &&  isnotnull(BPF.FT_score) &&  isnotnull(BPF.FBM_score)  )  ? 8 : null )\n",
      "NEW CALC\n",
      "\n",
      "Exam.Weight_st>0 && isnotnull(Exam.Weight_lbs) ? (Exam.Weight_st*14+Exam.Weight_lbs)*0.454 : null\n",
      "NEW CALC\n",
      "\n",
      "(     Exam.BPF_System==2   &&       isnotnull(BPF.BPF_1) &&    isnotnull(BPF.BPF_2) &&     isnotnull(BPF.BPF_3) &&      isnotnull(BPF.BPF_4) &&      isnotnull(BPF.BPF_5) &&      isnotnull(BPF.BPF_6)      )     ?    sum(BPF.Placental_grading,BPF.AF_volume,BPF.Accelerations,BPF.Body_movements,BPF.Respiratory_movements,BPF.Tone)  :    ( (     Exam.BPF_System==1  &&     isnotnull(BPF.BPF_2) &&     isnotnull(BPF.BPF_3) &&      isnotnull(BPF.BPF_4) &&      isnotnull(BPF.BPF_5) &&      isnotnull(BPF.BPF_6)     )     ?    sum(BPF.AF_volume,BPF.Accelerations,BPF.Body_movements,BPF.Respiratory_movements,BPF.Tone)   :    null   )\n",
      "NEW CALC\n",
      "\n",
      "isnotnull(Outcome.Outcome_GA_weeks) ? Outcome.Outcome_GA_days : (((Episode.EDD_LMP || Episode.EDD_US) && isnotnull(gaw(date()))) ? ((gad(date())) ) : null)\n"
     ]
    }
   ],
   "source": [
    "for calc in calcs:\n",
    "    if 'notnull' in calc:\n",
    "        print('NEW CALC\\n')\n",
    "        print(calc)"
   ]
  }
 ],
 "metadata": {
  "kernelspec": {
   "display_name": "Python 3 (ipykernel)",
   "language": "python",
   "name": "python3"
  },
  "language_info": {
   "codemirror_mode": {
    "name": "ipython",
    "version": 3
   },
   "file_extension": ".py",
   "mimetype": "text/x-python",
   "name": "python",
   "nbconvert_exporter": "python",
   "pygments_lexer": "ipython3",
   "version": "3.10.11"
  }
 },
 "nbformat": 4,
 "nbformat_minor": 5
}
