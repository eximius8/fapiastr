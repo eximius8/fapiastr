{
 "cells": [
  {
   "cell_type": "code",
   "execution_count": 10,
   "id": "08fc1123",
   "metadata": {},
   "outputs": [],
   "source": [
    "import crud.datablock as cruddatablock\n",
    "from dbutils.dbconnect import loadSession\n",
    "import xml.etree.ElementTree as ET"
   ]
  },
  {
   "cell_type": "code",
   "execution_count": 5,
   "id": "105cd8c4",
   "metadata": {},
   "outputs": [],
   "source": [
    "db = loadSession()\n",
    "count, datablocks = cruddatablock.get_datablocks(db=db, skip=0, limit=10000)"
   ]
  },
  {
   "cell_type": "code",
   "execution_count": 18,
   "id": "b475024d",
   "metadata": {},
   "outputs": [],
   "source": [
    "attribs = set()\n",
    "for block in datablocks:\n",
    "    root = ET.fromstring(block._contents)\n",
    "\n",
    "    for child in root:\n",
    "        for itm in child.attrib.keys():\n",
    "            attribs.add(itm)"
   ]
  },
  {
   "cell_type": "code",
   "execution_count": 19,
   "id": "fbd30f20",
   "metadata": {},
   "outputs": [
    {
     "data": {
      "text/plain": [
       "{'assoc',\n",
       " 'assoc_enable',\n",
       " 'calc',\n",
       " 'chart',\n",
       " 'cname',\n",
       " 'col',\n",
       " 'configuration',\n",
       " 'dec_precision',\n",
       " 'definition',\n",
       " 'dna',\n",
       " 'enabled',\n",
       " 'future',\n",
       " 'groupbutton',\n",
       " 'groupdef',\n",
       " 'hidden',\n",
       " 'highlight',\n",
       " 'html',\n",
       " 'id',\n",
       " 'int_precision',\n",
       " 'labelcomponent',\n",
       " 'layout',\n",
       " 'link',\n",
       " 'list',\n",
       " 'locked',\n",
       " 'ltype',\n",
       " 'nexttab',\n",
       " 'nospell',\n",
       " 'nrows',\n",
       " 'pcheckbox',\n",
       " 'pdef',\n",
       " 'popupid',\n",
       " 'post_dna',\n",
       " 'printdna',\n",
       " 'printhint',\n",
       " 'printif',\n",
       " 'subblock',\n",
       " 'target',\n",
       " 'textstyle',\n",
       " 'tname',\n",
       " 'type',\n",
       " 'visible',\n",
       " 'width'}"
      ]
     },
     "execution_count": 19,
     "metadata": {},
     "output_type": "execute_result"
    }
   ],
   "source": [
    "attribs"
   ]
  }
 ],
 "metadata": {
  "kernelspec": {
   "display_name": "Python 3 (ipykernel)",
   "language": "python",
   "name": "python3"
  },
  "language_info": {
   "codemirror_mode": {
    "name": "ipython",
    "version": 3
   },
   "file_extension": ".py",
   "mimetype": "text/x-python",
   "name": "python",
   "nbconvert_exporter": "python",
   "pygments_lexer": "ipython3",
   "version": "3.11.0"
  }
 },
 "nbformat": 4,
 "nbformat_minor": 5
}
