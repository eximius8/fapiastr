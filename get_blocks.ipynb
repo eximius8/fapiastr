{
 "cells": [
  {
   "cell_type": "code",
   "execution_count": 1,
   "id": "afa2776f",
   "metadata": {},
   "outputs": [],
   "source": [
    "from models.datablock import DataBlock\n",
    "from crud.datablock import get_datablocks\n",
    "from dbutils.dbconnect import loadSession"
   ]
  },
  {
   "cell_type": "code",
   "execution_count": 2,
   "id": "96f33a61",
   "metadata": {},
   "outputs": [],
   "source": [
    "session = loadSession()"
   ]
  },
  {
   "cell_type": "code",
   "execution_count": 3,
   "id": "24922e4c",
   "metadata": {},
   "outputs": [],
   "source": [
    "dbnum, datablocks = get_datablocks(db=session)"
   ]
  },
  {
   "cell_type": "code",
   "execution_count": 5,
   "id": "34ba0bec",
   "metadata": {},
   "outputs": [
    {
     "name": "stdout",
     "output_type": "stream",
     "text": [
      "<root><block>\n",
      "<item id=\"9\" col=\"1\" type=\"T\" dna=\"33\" width=\"10\" nrows=\"1\" printhint=\"0\" layout=\"0\" target=\"0\" />\n",
      "<item id=\"8\" col=\"1\" type=\"T\" dna=\"33\" width=\"10\" nrows=\"1\" printhint=\"0\" layout=\"0\" target=\"0\" />\n",
      "<item id=\"1\" col=\"2\" type=\"T\" dna=\"30986\" width=\"10\" nrows=\"1\" printhint=\"0\" layout=\"0\" target=\"0\" />\n",
      "<item id=\"2\" col=\"3\" type=\"T\" dna=\"30987\" width=\"10\" nrows=\"1\" printhint=\"0\" layout=\"0\" target=\"0\" />\n",
      "<item id=\"3\" col=\"4\" type=\"T\" dna=\"30988\" width=\"10\" nrows=\"1\" printhint=\"0\" layout=\"0\" target=\"0\" />\n",
      "<item id=\"4\" col=\"5\" type=\"T\" dna=\"633\" width=\"10\" nrows=\"1\" printhint=\"0\" layout=\"0\" target=\"0\" />\n",
      "<item id=\"5\" col=\"6\" type=\"T\" dna=\"30989\" width=\"10\" nrows=\"1\" printhint=\"0\" hidden=\"1\" layout=\"0\" target=\"0\" />\n",
      "<item id=\"6\" col=\"1\" type=\"T\" dna=\"30985\" width=\"10\" nrows=\"1\" printhint=\"0\" layout=\"0\" target=\"0\" />\n",
      "<item id=\"10\" tname=\"ASPRET_Ophthalmic\" cname=\"R1_PSV_1\" col=\"2\" type=\"N\" post_dna=\"740\" width=\"5\" nrows=\"1\" printhint=\"0\" layout=\"0\" target=\"0\" />\n",
      "<item id=\"11\" tname=\"ASPRET_Ophthalmic\" cname=\"R1_PSV_2\" col=\"3\" type=\"N\" post_dna=\"740\" width=\"5\" nrows=\"1\" printhint=\"0\" layout=\"0\" target=\"0\" />\n",
      "<item id=\"12\" tname=\"ASPRET_Ophthalmic\" cname=\"R1_EDV\" col=\"4\" type=\"N\" post_dna=\"740\" width=\"5\" nrows=\"1\" printhint=\"0\" layout=\"0\" target=\"0\" />\n",
      "<item id=\"13\" tname=\"ASPRET_Ophthalmic\" cname=\"R1_PI\" col=\"5\" type=\"N\" post_dna=\"740\" width=\"5\" nrows=\"1\" printhint=\"0\" layout=\"0\" target=\"0\" />\n",
      "<item id=\"14\" tname=\"ASPRET_Ophthalmic\" cname=\"R1_Ratio\" col=\"6\" type=\"N\" width=\"6\" nrows=\"1\" printhint=\"0\" hidden=\"1\" layout=\"0\" target=\"0\" />\n",
      "<item id=\"15\" col=\"1\" type=\"T\" dna=\"30990\" width=\"10\" nrows=\"1\" printhint=\"0\" layout=\"0\" target=\"0\" />\n",
      "<item id=\"16\" tname=\"ASPRET_Ophthalmic\" cname=\"L1_PSV_1\" col=\"2\" type=\"N\" post_dna=\"740\" width=\"5\" nrows=\"1\" printhint=\"0\" layout=\"0\" target=\"0\" />\n",
      "<item id=\"17\" tname=\"ASPRET_Ophthalmic\" cname=\"L1_PSV_2\" col=\"3\" type=\"N\" post_dna=\"740\" width=\"5\" nrows=\"1\" printhint=\"0\" layout=\"0\" target=\"0\" />\n",
      "<item id=\"18\" tname=\"ASPRET_Ophthalmic\" cname=\"L1_EDV\" col=\"4\" type=\"N\" post_dna=\"740\" width=\"5\" nrows=\"1\" printhint=\"0\" layout=\"0\" target=\"0\" />\n",
      "<item id=\"19\" tname=\"ASPRET_Ophthalmic\" cname=\"L1_PI\" col=\"5\" type=\"N\" post_dna=\"740\" width=\"5\" nrows=\"1\" printhint=\"0\" layout=\"0\" target=\"0\" />\n",
      "<item id=\"20\" tname=\"ASPRET_Ophthalmic\" cname=\"L1_Ratio\" col=\"6\" type=\"N\" width=\"6\" nrows=\"1\" printhint=\"0\" hidden=\"1\" layout=\"0\" target=\"0\" />\n",
      "<item id=\"21\" col=\"1\" type=\"T\" dna=\"30992\" width=\"10\" nrows=\"1\" printhint=\"0\" layout=\"0\" target=\"0\" />\n",
      "<item id=\"22\" tname=\"ASPRET_Ophthalmic\" cname=\"R2_PSV_1\" col=\"2\" type=\"N\" post_dna=\"740\" width=\"5\" nrows=\"1\" printhint=\"0\" layout=\"0\" target=\"0\" />\n",
      "<item id=\"23\" tname=\"ASPRET_Ophthalmic\" cname=\"R2_PSV_2\" col=\"3\" type=\"N\" post_dna=\"740\" width=\"5\" nrows=\"1\" printhint=\"0\" layout=\"0\" target=\"0\" />\n",
      "<item id=\"24\" tname=\"ASPRET_Ophthalmic\" cname=\"R2_EDV\" col=\"4\" type=\"N\" post_dna=\"740\" width=\"5\" nrows=\"1\" printhint=\"0\" layout=\"0\" target=\"0\" />\n",
      "<item id=\"25\" tname=\"ASPRET_Ophthalmic\" cname=\"R2_PI\" col=\"5\" type=\"N\" post_dna=\"740\" width=\"5\" nrows=\"1\" printhint=\"0\" layout=\"0\" target=\"0\" />\n",
      "<item id=\"26\" tname=\"ASPRET_Ophthalmic\" cname=\"R2_Ratio\" col=\"6\" type=\"N\" width=\"6\" nrows=\"1\" printhint=\"0\" hidden=\"1\" layout=\"0\" target=\"0\" />\n",
      "<item id=\"27\" col=\"1\" type=\"T\" dna=\"30993\" width=\"10\" nrows=\"1\" printhint=\"0\" layout=\"0\" target=\"0\" />\n",
      "<item id=\"28\" tname=\"ASPRET_Ophthalmic\" cname=\"L2_PSV_1\" col=\"2\" type=\"N\" post_dna=\"740\" width=\"5\" nrows=\"1\" printhint=\"0\" layout=\"0\" target=\"0\" />\n",
      "<item id=\"29\" tname=\"ASPRET_Ophthalmic\" cname=\"L2_PSV_2\" col=\"3\" type=\"N\" post_dna=\"740\" width=\"5\" nrows=\"1\" printhint=\"0\" layout=\"0\" target=\"0\" />\n",
      "<item id=\"30\" tname=\"ASPRET_Ophthalmic\" cname=\"L2_EDV\" col=\"4\" type=\"N\" post_dna=\"740\" width=\"5\" nrows=\"1\" printhint=\"0\" layout=\"0\" target=\"0\" />\n",
      "<item id=\"31\" tname=\"ASPRET_Ophthalmic\" cname=\"L2_PI\" col=\"5\" type=\"N\" post_dna=\"740\" width=\"5\" nrows=\"1\" printhint=\"0\" layout=\"0\" target=\"0\" />\n",
      "<item id=\"32\" tname=\"ASPRET_Ophthalmic\" cname=\"L2_Ratio\" col=\"6\" type=\"N\" width=\"6\" nrows=\"1\" printhint=\"0\" hidden=\"1\" layout=\"0\" target=\"0\" />\n",
      "<item id=\"36\" tname=\"ASPRET_Ophthalmic\" cname=\"Sum_PSV1\" col=\"1\" type=\"N\" dna=\"30996\" width=\"7\" nrows=\"1\" calc=\"sum(ASPRET_Ophthalmic.R1_PSV_1,ASPRET_Ophthalmic.L1_PSV_1,ASPRET_Ophthalmic.R2_PSV_1,ASPRET_Ophthalmic.L2_PSV_1)\" printhint=\"0\" hidden=\"1\" layout=\"0\" target=\"0\" />\n",
      "<item id=\"33\" tname=\"ASPRET_Ophthalmic\" cname=\"Mean_PSV1\" col=\"7\" type=\"N\" dna=\"30994\" width=\"7\" nrows=\"1\" calc=\"ASPRET_Ophthalmic.Sum_PSV1&gt;0 ? ASPRET_Ophthalmic.Sum_PSV1/4 : null\" printhint=\"0\" hidden=\"1\" layout=\"0\" target=\"0\" />\n",
      "<item id=\"37\" tname=\"ASPRET_Ophthalmic\" cname=\"Sum_PSV2\" col=\"1\" type=\"N\" dna=\"30997\" width=\"7\" nrows=\"1\" calc=\"sum(ASPRET_Ophthalmic.R1_PSV_2,ASPRET_Ophthalmic.L1_PSV_2,ASPRET_Ophthalmic.R2_PSV_2,ASPRET_Ophthalmic.L2_PSV_2)\" printhint=\"0\" hidden=\"1\" layout=\"0\" target=\"0\" />\n",
      "<item id=\"35\" tname=\"ASPRET_Ophthalmic\" cname=\"Mean_PSV2\" col=\"7\" type=\"N\" dna=\"30995\" width=\"6\" nrows=\"1\" calc=\"ASPRET_Ophthalmic.Sum_PSV2&gt;0 ? ASPRET_Ophthalmic.Sum_PSV2/4 : null\" printhint=\"0\" hidden=\"1\" layout=\"0\" target=\"0\" />\n",
      "<item id=\"34\" tname=\"ASPRET_Ophthalmic\" cname=\"Ratio\" col=\"1\" type=\"N\" dna=\"30989\" width=\"6\" nrows=\"1\" calc=\"(ASPRET_Ophthalmic.Mean_PSV1 &gt; 0 &amp;&amp; ASPRET_Ophthalmic.Mean_PSV2 &gt; 0) ?  ASPRET_Ophthalmic.Mean_PSV2  / ASPRET_Ophthalmic.Mean_PSV1 : null\" printhint=\"0\" layout=\"0\" target=\"0\" />\n",
      "</block><blocknum>1087</blocknum><blockversion>1</blockversion></root>\n"
     ]
    }
   ],
   "source": [
    "for datablock in datablocks:\n",
    "    print(datablock.get_xml().decode('utf-8'))\n",
    "    \n",
    "    break"
   ]
  }
 ],
 "metadata": {
  "kernelspec": {
   "display_name": "Python 3 (ipykernel)",
   "language": "python",
   "name": "python3"
  },
  "language_info": {
   "codemirror_mode": {
    "name": "ipython",
    "version": 3
   },
   "file_extension": ".py",
   "mimetype": "text/x-python",
   "name": "python",
   "nbconvert_exporter": "python",
   "pygments_lexer": "ipython3",
   "version": "3.11.2"
  }
 },
 "nbformat": 4,
 "nbformat_minor": 5
}
