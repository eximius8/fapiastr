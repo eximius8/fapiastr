{
 "cells": [
  {
   "cell_type": "code",
   "execution_count": 1,
   "id": "afa2776f",
   "metadata": {},
   "outputs": [],
   "source": [
    "from models.datablock import DataBlock\n",
    "from models.dictionar import Dictionar\n",
    "from crud.datablock import get_datablocks\n",
    "from crud.dictionar import get_dictionars\n",
    "from dbutils.dbconnect import loadSession"
   ]
  },
  {
   "cell_type": "code",
   "execution_count": 2,
   "id": "96f33a61",
   "metadata": {},
   "outputs": [],
   "source": [
    "session = loadSession()"
   ]
  },
  {
   "cell_type": "code",
   "execution_count": 3,
   "id": "24922e4c",
   "metadata": {},
   "outputs": [],
   "source": [
    "dbnum, datablocks = get_datablocks(db=session, limit=2000)\n",
    "dictnum, dicts = get_dictionars(db=session, limit=20000)"
   ]
  },
  {
   "cell_type": "code",
   "execution_count": 5,
   "id": "b3956821",
   "metadata": {},
   "outputs": [
    {
     "data": {
      "text/plain": [
       "9920"
      ]
     },
     "execution_count": 5,
     "metadata": {},
     "output_type": "execute_result"
    }
   ],
   "source": [
    "dictnum"
   ]
  },
  {
   "cell_type": "code",
   "execution_count": 8,
   "id": "2594461e",
   "metadata": {},
   "outputs": [],
   "source": [
    "#dict_types = set()\n",
    "dict_nums = {'B': 0, 'D': 0, 'E': 0, 'J': 0, 'L': 0, 'M': 0, 'N': 0, 'O': 0, 'P': 0, 'R': 0, 'S': 0, 'T': 0, 'W': 0, 'Z': 0}\n",
    "for dictitem in dicts:\n",
    "    dict_nums[dictitem.dtype] += 1\n"
   ]
  },
  {
   "cell_type": "code",
   "execution_count": 9,
   "id": "1b69a193",
   "metadata": {},
   "outputs": [
    {
     "data": {
      "text/plain": [
       "{'B': 2412,\n",
       " 'D': 360,\n",
       " 'E': 338,\n",
       " 'J': 2,\n",
       " 'L': 2555,\n",
       " 'M': 96,\n",
       " 'N': 2264,\n",
       " 'O': 6,\n",
       " 'P': 6,\n",
       " 'R': 22,\n",
       " 'S': 1771,\n",
       " 'T': 1,\n",
       " 'W': 5,\n",
       " 'Z': 82}"
      ]
     },
     "execution_count": 9,
     "metadata": {},
     "output_type": "execute_result"
    }
   ],
   "source": [
    "dict_nums"
   ]
  },
  {
   "cell_type": "code",
   "execution_count": null,
   "id": "34ba0bec",
   "metadata": {},
   "outputs": [],
   "source": [
    "i = 0\n",
    "for datablock in datablocks:\n",
    "    i += 1\n",
    "    with open(f'datablocksxml/block_{datablock.block}_ver_{datablock.version}.xml', 'w') as f:\n",
    "        f.write(datablock.get_xml().decode('utf-8'))"
   ]
  },
  {
   "cell_type": "code",
   "execution_count": null,
   "id": "6c7c0471",
   "metadata": {},
   "outputs": [],
   "source": [
    "print(f'Files created: {i}')"
   ]
  }
 ],
 "metadata": {
  "kernelspec": {
   "display_name": "Python 3 (ipykernel)",
   "language": "python",
   "name": "python3"
  },
  "language_info": {
   "codemirror_mode": {
    "name": "ipython",
    "version": 3
   },
   "file_extension": ".py",
   "mimetype": "text/x-python",
   "name": "python",
   "nbconvert_exporter": "python",
   "pygments_lexer": "ipython3",
   "version": "3.11.2"
  }
 },
 "nbformat": 4,
 "nbformat_minor": 5
}
