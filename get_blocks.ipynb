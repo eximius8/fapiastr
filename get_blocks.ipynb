{
 "cells": [
  {
   "cell_type": "code",
   "execution_count": 1,
   "id": "afa2776f",
   "metadata": {},
   "outputs": [
    {
     "ename": "ArgumentError",
     "evalue": "Mapper Mapper[DataBlock(DataBlock)] could not assemble any primary key columns for mapped table 'DataBlock'",
     "output_type": "error",
     "traceback": [
      "\u001b[1;31m---------------------------------------------------------------------------\u001b[0m",
      "\u001b[1;31mArgumentError\u001b[0m                             Traceback (most recent call last)",
      "Cell \u001b[1;32mIn[1], line 1\u001b[0m\n\u001b[1;32m----> 1\u001b[0m \u001b[38;5;28;01mfrom\u001b[39;00m \u001b[38;5;21;01mmodels\u001b[39;00m\u001b[38;5;21;01m.\u001b[39;00m\u001b[38;5;21;01mdatablock\u001b[39;00m \u001b[38;5;28;01mimport\u001b[39;00m DataBlock\n\u001b[0;32m      2\u001b[0m \u001b[38;5;28;01mfrom\u001b[39;00m \u001b[38;5;21;01mmodels\u001b[39;00m\u001b[38;5;21;01m.\u001b[39;00m\u001b[38;5;21;01mdictionar\u001b[39;00m \u001b[38;5;28;01mimport\u001b[39;00m Dictionar\n\u001b[0;32m      3\u001b[0m \u001b[38;5;28;01mfrom\u001b[39;00m \u001b[38;5;21;01mcrud\u001b[39;00m\u001b[38;5;21;01m.\u001b[39;00m\u001b[38;5;21;01mdatablock\u001b[39;00m \u001b[38;5;28;01mimport\u001b[39;00m get_datablocks\n",
      "File \u001b[1;32m~\\astraia-repos\\fapiastr\\models\\datablock.py:19\u001b[0m\n\u001b[0;32m     15\u001b[0m \u001b[38;5;28;01mclass\u001b[39;00m \u001b[38;5;21;01mBlock\u001b[39;00m(BaseXmlModel, tag\u001b[38;5;241m=\u001b[39m\u001b[38;5;124m'\u001b[39m\u001b[38;5;124mblock\u001b[39m\u001b[38;5;124m'\u001b[39m):\n\u001b[0;32m     16\u001b[0m     items: List[Item] \u001b[38;5;241m=\u001b[39m element(tag\u001b[38;5;241m=\u001b[39m\u001b[38;5;124m'\u001b[39m\u001b[38;5;124mitem\u001b[39m\u001b[38;5;124m'\u001b[39m)\n\u001b[1;32m---> 19\u001b[0m \u001b[38;5;28;01mclass\u001b[39;00m \u001b[38;5;21;01mDataBlock\u001b[39;00m(Base):\n\u001b[0;32m     20\u001b[0m \u001b[38;5;250m    \u001b[39m\u001b[38;5;124;03m\"\"\"Language model\"\"\"\u001b[39;00m\n\u001b[0;32m     21\u001b[0m     block \u001b[38;5;241m=\u001b[39m Column(\u001b[38;5;124m'\u001b[39m\u001b[38;5;124mblock\u001b[39m\u001b[38;5;124m'\u001b[39m, Integer, nullable\u001b[38;5;241m=\u001b[39m\u001b[38;5;28;01mFalse\u001b[39;00m)\n",
      "File \u001b[1;32m~\\astraia-repos\\fapiastr\\env\\lib\\site-packages\\sqlalchemy\\orm\\decl_api.py:193\u001b[0m, in \u001b[0;36mDeclarativeMeta.__init__\u001b[1;34m(cls, classname, bases, dict_, **kw)\u001b[0m\n\u001b[0;32m    190\u001b[0m         \u001b[38;5;28mcls\u001b[39m\u001b[38;5;241m.\u001b[39m_sa_registry \u001b[38;5;241m=\u001b[39m reg\n\u001b[0;32m    192\u001b[0m \u001b[38;5;28;01mif\u001b[39;00m \u001b[38;5;129;01mnot\u001b[39;00m \u001b[38;5;28mcls\u001b[39m\u001b[38;5;241m.\u001b[39m\u001b[38;5;18m__dict__\u001b[39m\u001b[38;5;241m.\u001b[39mget(\u001b[38;5;124m\"\u001b[39m\u001b[38;5;124m__abstract__\u001b[39m\u001b[38;5;124m\"\u001b[39m, \u001b[38;5;28;01mFalse\u001b[39;00m):\n\u001b[1;32m--> 193\u001b[0m     \u001b[43m_as_declarative\u001b[49m\u001b[43m(\u001b[49m\u001b[43mreg\u001b[49m\u001b[43m,\u001b[49m\u001b[43m \u001b[49m\u001b[38;5;28;43mcls\u001b[39;49m\u001b[43m,\u001b[49m\u001b[43m \u001b[49m\u001b[43mdict_\u001b[49m\u001b[43m)\u001b[49m\n\u001b[0;32m    194\u001b[0m \u001b[38;5;28mtype\u001b[39m\u001b[38;5;241m.\u001b[39m\u001b[38;5;21m__init__\u001b[39m(\u001b[38;5;28mcls\u001b[39m, classname, bases, dict_)\n",
      "File \u001b[1;32m~\\astraia-repos\\fapiastr\\env\\lib\\site-packages\\sqlalchemy\\orm\\decl_base.py:247\u001b[0m, in \u001b[0;36m_as_declarative\u001b[1;34m(registry, cls, dict_)\u001b[0m\n\u001b[0;32m    242\u001b[0m \u001b[38;5;28;01mdef\u001b[39;00m \u001b[38;5;21m_as_declarative\u001b[39m(\n\u001b[0;32m    243\u001b[0m     registry: _RegistryType, \u001b[38;5;28mcls\u001b[39m: Type[Any], dict_: _ClassDict\n\u001b[0;32m    244\u001b[0m ) \u001b[38;5;241m-\u001b[39m\u001b[38;5;241m>\u001b[39m Optional[_MapperConfig]:\n\u001b[0;32m    245\u001b[0m     \u001b[38;5;66;03m# declarative scans the class for attributes.  no table or mapper\u001b[39;00m\n\u001b[0;32m    246\u001b[0m     \u001b[38;5;66;03m# args passed separately.\u001b[39;00m\n\u001b[1;32m--> 247\u001b[0m     \u001b[38;5;28;01mreturn\u001b[39;00m \u001b[43m_MapperConfig\u001b[49m\u001b[38;5;241;43m.\u001b[39;49m\u001b[43msetup_mapping\u001b[49m\u001b[43m(\u001b[49m\u001b[43mregistry\u001b[49m\u001b[43m,\u001b[49m\u001b[43m \u001b[49m\u001b[38;5;28;43mcls\u001b[39;49m\u001b[43m,\u001b[49m\u001b[43m \u001b[49m\u001b[43mdict_\u001b[49m\u001b[43m,\u001b[49m\u001b[43m \u001b[49m\u001b[38;5;28;43;01mNone\u001b[39;49;00m\u001b[43m,\u001b[49m\u001b[43m \u001b[49m\u001b[43m{\u001b[49m\u001b[43m}\u001b[49m\u001b[43m)\u001b[49m\n",
      "File \u001b[1;32m~\\astraia-repos\\fapiastr\\env\\lib\\site-packages\\sqlalchemy\\orm\\decl_base.py:328\u001b[0m, in \u001b[0;36m_MapperConfig.setup_mapping\u001b[1;34m(cls, registry, cls_, dict_, table, mapper_kw)\u001b[0m\n\u001b[0;32m    324\u001b[0m     \u001b[38;5;28;01mreturn\u001b[39;00m _DeferredMapperConfig(\n\u001b[0;32m    325\u001b[0m         registry, cls_, dict_, table, mapper_kw\n\u001b[0;32m    326\u001b[0m     )\n\u001b[0;32m    327\u001b[0m \u001b[38;5;28;01melse\u001b[39;00m:\n\u001b[1;32m--> 328\u001b[0m     \u001b[38;5;28;01mreturn\u001b[39;00m \u001b[43m_ClassScanMapperConfig\u001b[49m\u001b[43m(\u001b[49m\n\u001b[0;32m    329\u001b[0m \u001b[43m        \u001b[49m\u001b[43mregistry\u001b[49m\u001b[43m,\u001b[49m\u001b[43m \u001b[49m\u001b[43mcls_\u001b[49m\u001b[43m,\u001b[49m\u001b[43m \u001b[49m\u001b[43mdict_\u001b[49m\u001b[43m,\u001b[49m\u001b[43m \u001b[49m\u001b[43mtable\u001b[49m\u001b[43m,\u001b[49m\u001b[43m \u001b[49m\u001b[43mmapper_kw\u001b[49m\n\u001b[0;32m    330\u001b[0m \u001b[43m    \u001b[49m\u001b[43m)\u001b[49m\n",
      "File \u001b[1;32m~\\astraia-repos\\fapiastr\\env\\lib\\site-packages\\sqlalchemy\\orm\\decl_base.py:582\u001b[0m, in \u001b[0;36m_ClassScanMapperConfig.__init__\u001b[1;34m(self, registry, cls_, dict_, table, mapper_kw)\u001b[0m\n\u001b[0;32m    578\u001b[0m \u001b[38;5;28mself\u001b[39m\u001b[38;5;241m.\u001b[39m_setup_table(table)\n\u001b[0;32m    580\u001b[0m \u001b[38;5;28mself\u001b[39m\u001b[38;5;241m.\u001b[39m_setup_inheriting_columns(mapper_kw)\n\u001b[1;32m--> 582\u001b[0m \u001b[38;5;28;43mself\u001b[39;49m\u001b[38;5;241;43m.\u001b[39;49m\u001b[43m_early_mapping\u001b[49m\u001b[43m(\u001b[49m\u001b[43mmapper_kw\u001b[49m\u001b[43m)\u001b[49m\n",
      "File \u001b[1;32m~\\astraia-repos\\fapiastr\\env\\lib\\site-packages\\sqlalchemy\\orm\\decl_base.py:369\u001b[0m, in \u001b[0;36m_MapperConfig._early_mapping\u001b[1;34m(self, mapper_kw)\u001b[0m\n\u001b[0;32m    368\u001b[0m \u001b[38;5;28;01mdef\u001b[39;00m \u001b[38;5;21m_early_mapping\u001b[39m(\u001b[38;5;28mself\u001b[39m, mapper_kw: _MapperKwArgs) \u001b[38;5;241m-\u001b[39m\u001b[38;5;241m>\u001b[39m \u001b[38;5;28;01mNone\u001b[39;00m:\n\u001b[1;32m--> 369\u001b[0m     \u001b[38;5;28;43mself\u001b[39;49m\u001b[38;5;241;43m.\u001b[39;49m\u001b[43mmap\u001b[49m\u001b[43m(\u001b[49m\u001b[43mmapper_kw\u001b[49m\u001b[43m)\u001b[49m\n",
      "File \u001b[1;32m~\\astraia-repos\\fapiastr\\env\\lib\\site-packages\\sqlalchemy\\orm\\decl_base.py:1949\u001b[0m, in \u001b[0;36m_ClassScanMapperConfig.map\u001b[1;34m(self, mapper_kw)\u001b[0m\n\u001b[0;32m   1944\u001b[0m \u001b[38;5;28;01melse\u001b[39;00m:\n\u001b[0;32m   1945\u001b[0m     mapper_cls \u001b[38;5;241m=\u001b[39m Mapper\n\u001b[0;32m   1947\u001b[0m \u001b[38;5;28;01mreturn\u001b[39;00m \u001b[38;5;28mself\u001b[39m\u001b[38;5;241m.\u001b[39mset_cls_attribute(\n\u001b[0;32m   1948\u001b[0m     \u001b[38;5;124m\"\u001b[39m\u001b[38;5;124m__mapper__\u001b[39m\u001b[38;5;124m\"\u001b[39m,\n\u001b[1;32m-> 1949\u001b[0m     mapper_cls(\u001b[38;5;28mself\u001b[39m\u001b[38;5;241m.\u001b[39mcls, \u001b[38;5;28mself\u001b[39m\u001b[38;5;241m.\u001b[39mlocal_table, \u001b[38;5;241m*\u001b[39m\u001b[38;5;241m*\u001b[39m\u001b[38;5;28mself\u001b[39m\u001b[38;5;241m.\u001b[39mmapper_args),\n\u001b[0;32m   1950\u001b[0m )\n",
      "File \u001b[1;32m<string>:2\u001b[0m, in \u001b[0;36m__init__\u001b[1;34m(self, class_, local_table, properties, primary_key, non_primary, inherits, inherit_condition, inherit_foreign_keys, always_refresh, version_id_col, version_id_generator, polymorphic_on, _polymorphic_map, polymorphic_identity, concrete, with_polymorphic, polymorphic_abstract, polymorphic_load, allow_partial_pks, batch, column_prefix, include_properties, exclude_properties, passive_updates, passive_deletes, confirm_deleted_rows, eager_defaults, legacy_is_orphan, _compiled_cache_size)\u001b[0m\n",
      "File \u001b[1;32m~\\astraia-repos\\fapiastr\\env\\lib\\site-packages\\sqlalchemy\\util\\deprecations.py:281\u001b[0m, in \u001b[0;36mdeprecated_params.<locals>.decorate.<locals>.warned\u001b[1;34m(fn, *args, **kwargs)\u001b[0m\n\u001b[0;32m    274\u001b[0m     \u001b[38;5;28;01mif\u001b[39;00m m \u001b[38;5;129;01min\u001b[39;00m kwargs:\n\u001b[0;32m    275\u001b[0m         _warn_with_version(\n\u001b[0;32m    276\u001b[0m             messages[m],\n\u001b[0;32m    277\u001b[0m             versions[m],\n\u001b[0;32m    278\u001b[0m             version_warnings[m],\n\u001b[0;32m    279\u001b[0m             stacklevel\u001b[38;5;241m=\u001b[39m\u001b[38;5;241m3\u001b[39m,\n\u001b[0;32m    280\u001b[0m         )\n\u001b[1;32m--> 281\u001b[0m \u001b[38;5;28;01mreturn\u001b[39;00m fn(\u001b[38;5;241m*\u001b[39margs, \u001b[38;5;241m*\u001b[39m\u001b[38;5;241m*\u001b[39mkwargs)\n",
      "File \u001b[1;32m~\\astraia-repos\\fapiastr\\env\\lib\\site-packages\\sqlalchemy\\orm\\mapper.py:853\u001b[0m, in \u001b[0;36mMapper.__init__\u001b[1;34m(self, class_, local_table, properties, primary_key, non_primary, inherits, inherit_condition, inherit_foreign_keys, always_refresh, version_id_col, version_id_generator, polymorphic_on, _polymorphic_map, polymorphic_identity, concrete, with_polymorphic, polymorphic_abstract, polymorphic_load, allow_partial_pks, batch, column_prefix, include_properties, exclude_properties, passive_updates, passive_deletes, confirm_deleted_rows, eager_defaults, legacy_is_orphan, _compiled_cache_size)\u001b[0m\n\u001b[0;32m    851\u001b[0m \u001b[38;5;28mself\u001b[39m\u001b[38;5;241m.\u001b[39m_configure_properties()\n\u001b[0;32m    852\u001b[0m \u001b[38;5;28mself\u001b[39m\u001b[38;5;241m.\u001b[39m_configure_polymorphic_setter()\n\u001b[1;32m--> 853\u001b[0m \u001b[38;5;28;43mself\u001b[39;49m\u001b[38;5;241;43m.\u001b[39;49m\u001b[43m_configure_pks\u001b[49m\u001b[43m(\u001b[49m\u001b[43m)\u001b[49m\n\u001b[0;32m    854\u001b[0m \u001b[38;5;28mself\u001b[39m\u001b[38;5;241m.\u001b[39mregistry\u001b[38;5;241m.\u001b[39m_flag_new_mapper(\u001b[38;5;28mself\u001b[39m)\n\u001b[0;32m    855\u001b[0m \u001b[38;5;28mself\u001b[39m\u001b[38;5;241m.\u001b[39m_log(\u001b[38;5;124m\"\u001b[39m\u001b[38;5;124mconstructed\u001b[39m\u001b[38;5;124m\"\u001b[39m)\n",
      "File \u001b[1;32m~\\astraia-repos\\fapiastr\\env\\lib\\site-packages\\sqlalchemy\\orm\\mapper.py:1637\u001b[0m, in \u001b[0;36mMapper._configure_pks\u001b[1;34m(self)\u001b[0m\n\u001b[0;32m   1632\u001b[0m \u001b[38;5;66;03m# otherwise, see that we got a full PK for the mapped table\u001b[39;00m\n\u001b[0;32m   1633\u001b[0m \u001b[38;5;28;01melif\u001b[39;00m (\n\u001b[0;32m   1634\u001b[0m     \u001b[38;5;28mself\u001b[39m\u001b[38;5;241m.\u001b[39mpersist_selectable \u001b[38;5;129;01mnot\u001b[39;00m \u001b[38;5;129;01min\u001b[39;00m \u001b[38;5;28mself\u001b[39m\u001b[38;5;241m.\u001b[39m_pks_by_table\n\u001b[0;32m   1635\u001b[0m     \u001b[38;5;129;01mor\u001b[39;00m \u001b[38;5;28mlen\u001b[39m(\u001b[38;5;28mself\u001b[39m\u001b[38;5;241m.\u001b[39m_pks_by_table[\u001b[38;5;28mself\u001b[39m\u001b[38;5;241m.\u001b[39mpersist_selectable]) \u001b[38;5;241m==\u001b[39m \u001b[38;5;241m0\u001b[39m\n\u001b[0;32m   1636\u001b[0m ):\n\u001b[1;32m-> 1637\u001b[0m     \u001b[38;5;28;01mraise\u001b[39;00m sa_exc\u001b[38;5;241m.\u001b[39mArgumentError(\n\u001b[0;32m   1638\u001b[0m         \u001b[38;5;124m\"\u001b[39m\u001b[38;5;124mMapper \u001b[39m\u001b[38;5;132;01m%s\u001b[39;00m\u001b[38;5;124m could not assemble any primary \u001b[39m\u001b[38;5;124m\"\u001b[39m\n\u001b[0;32m   1639\u001b[0m         \u001b[38;5;124m\"\u001b[39m\u001b[38;5;124mkey columns for mapped table \u001b[39m\u001b[38;5;124m'\u001b[39m\u001b[38;5;132;01m%s\u001b[39;00m\u001b[38;5;124m'\u001b[39m\u001b[38;5;124m\"\u001b[39m\n\u001b[0;32m   1640\u001b[0m         \u001b[38;5;241m%\u001b[39m (\u001b[38;5;28mself\u001b[39m, \u001b[38;5;28mself\u001b[39m\u001b[38;5;241m.\u001b[39mpersist_selectable\u001b[38;5;241m.\u001b[39mdescription)\n\u001b[0;32m   1641\u001b[0m     )\n\u001b[0;32m   1642\u001b[0m \u001b[38;5;28;01melif\u001b[39;00m \u001b[38;5;28mself\u001b[39m\u001b[38;5;241m.\u001b[39mlocal_table \u001b[38;5;129;01mnot\u001b[39;00m \u001b[38;5;129;01min\u001b[39;00m \u001b[38;5;28mself\u001b[39m\u001b[38;5;241m.\u001b[39m_pks_by_table \u001b[38;5;129;01mand\u001b[39;00m \u001b[38;5;28misinstance\u001b[39m(\n\u001b[0;32m   1643\u001b[0m     \u001b[38;5;28mself\u001b[39m\u001b[38;5;241m.\u001b[39mlocal_table, schema\u001b[38;5;241m.\u001b[39mTable\n\u001b[0;32m   1644\u001b[0m ):\n\u001b[0;32m   1645\u001b[0m     util\u001b[38;5;241m.\u001b[39mwarn(\n\u001b[0;32m   1646\u001b[0m         \u001b[38;5;124m\"\u001b[39m\u001b[38;5;124mCould not assemble any primary \u001b[39m\u001b[38;5;124m\"\u001b[39m\n\u001b[0;32m   1647\u001b[0m         \u001b[38;5;124m\"\u001b[39m\u001b[38;5;124mkeys for locally mapped table \u001b[39m\u001b[38;5;124m'\u001b[39m\u001b[38;5;132;01m%s\u001b[39;00m\u001b[38;5;124m'\u001b[39m\u001b[38;5;124m - \u001b[39m\u001b[38;5;124m\"\u001b[39m\n\u001b[0;32m   1648\u001b[0m         \u001b[38;5;124m\"\u001b[39m\u001b[38;5;124mno rows will be persisted in this Table.\u001b[39m\u001b[38;5;124m\"\u001b[39m\n\u001b[0;32m   1649\u001b[0m         \u001b[38;5;241m%\u001b[39m \u001b[38;5;28mself\u001b[39m\u001b[38;5;241m.\u001b[39mlocal_table\u001b[38;5;241m.\u001b[39mdescription\n\u001b[0;32m   1650\u001b[0m     )\n",
      "\u001b[1;31mArgumentError\u001b[0m: Mapper Mapper[DataBlock(DataBlock)] could not assemble any primary key columns for mapped table 'DataBlock'"
     ]
    }
   ],
   "source": [
    "from models.datablock import DataBlock\n",
    "from models.dictionar import Dictionar\n",
    "from crud.datablock import get_datablocks\n",
    "from crud.dictionar import get_dictionars\n",
    "from dbutils.dbconnect import loadSession"
   ]
  },
  {
   "cell_type": "code",
   "execution_count": null,
   "id": "96f33a61",
   "metadata": {},
   "outputs": [],
   "source": [
    "session = loadSession()"
   ]
  },
  {
   "cell_type": "code",
   "execution_count": null,
   "id": "24922e4c",
   "metadata": {},
   "outputs": [],
   "source": [
    "dbnum, datablocks = get_datablocks(db=session, limit=2000)\n",
    "dictnum, dicts = get_dictionars(db=session, limit=20000)"
   ]
  },
  {
   "cell_type": "code",
   "execution_count": null,
   "id": "b3956821",
   "metadata": {},
   "outputs": [],
   "source": [
    "dictnum"
   ]
  },
  {
   "cell_type": "code",
   "execution_count": null,
   "id": "2594461e",
   "metadata": {},
   "outputs": [],
   "source": [
    "#dict_types = set()\n",
    "dict_nums = {'B': 0, 'D': 0, 'E': 0, 'J': 0, 'L': 0, 'M': 0, 'N': 0, 'O': 0, 'P': 0, 'R': 0, 'S': 0, 'T': 0, 'W': 0, 'Z': 0}\n",
    "for dictitem in dicts:\n",
    "    dict_nums[dictitem.dtype] += 1"
   ]
  },
  {
   "cell_type": "code",
   "execution_count": null,
   "id": "1b69a193",
   "metadata": {},
   "outputs": [],
   "source": [
    "ini = 0\n",
    "for val in dict_nums.values():\n",
    "    ini += val\n",
    "print(ini)"
   ]
  },
  {
   "cell_type": "code",
   "execution_count": null,
   "id": "34ba0bec",
   "metadata": {},
   "outputs": [],
   "source": [
    "i = 0\n",
    "for datablock in datablocks:\n",
    "    i += 1\n",
    "    with open(f'datablocksxml/block_{datablock.block}_ver_{datablock.version}.xml', 'w') as f:\n",
    "        f.write(datablock.get_xml().decode('utf-8'))"
   ]
  },
  {
   "cell_type": "code",
   "execution_count": null,
   "id": "6c7c0471",
   "metadata": {},
   "outputs": [],
   "source": [
    "print(f'Files created: {i}')"
   ]
  }
 ],
 "metadata": {
  "kernelspec": {
   "display_name": "Python 3 (ipykernel)",
   "language": "python",
   "name": "python3"
  },
  "language_info": {
   "codemirror_mode": {
    "name": "ipython",
    "version": 3
   },
   "file_extension": ".py",
   "mimetype": "text/x-python",
   "name": "python",
   "nbconvert_exporter": "python",
   "pygments_lexer": "ipython3",
   "version": "3.10.11"
  }
 },
 "nbformat": 4,
 "nbformat_minor": 5
}
