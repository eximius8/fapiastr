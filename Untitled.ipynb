{
 "cells": [
  {
   "cell_type": "code",
   "execution_count": 1,
   "id": "ee5bc0d4",
   "metadata": {},
   "outputs": [],
   "source": [
    "from models.datablock import DataBlock\n",
    "from models.sequences import SequenceData, Sequence\n",
    "from crud.datablock import get_latest_datablock\n",
    "from crud.sequences import get_root_sequences\n",
    "from dbutils.dbconnect import loadSession\n",
    "session = loadSession()"
   ]
  },
  {
   "cell_type": "code",
   "execution_count": null,
   "id": "abf9ab7f",
   "metadata": {},
   "outputs": [],
   "source": [
    "block1 = get_latest_datablock(db=session, block=819)\n",
    "block1._contents"
   ]
  },
  {
   "cell_type": "code",
   "execution_count": null,
   "id": "179ec73c",
   "metadata": {},
   "outputs": [],
   "source": [
    "','.strip().split(',').remove('')"
   ]
  },
  {
   "cell_type": "code",
   "execution_count": 2,
   "id": "cdda2387",
   "metadata": {},
   "outputs": [
    {
     "ename": "ValueError",
     "evalue": "invalid literal for int() with base 10: '643;3'",
     "output_type": "error",
     "traceback": [
      "\u001b[1;31m---------------------------------------------------------------------------\u001b[0m",
      "\u001b[1;31mValueError\u001b[0m                                Traceback (most recent call last)",
      "Cell \u001b[1;32mIn[2], line 1\u001b[0m\n\u001b[1;32m----> 1\u001b[0m \u001b[43mget_root_sequences\u001b[49m\u001b[43m(\u001b[49m\u001b[43mdb\u001b[49m\u001b[38;5;241;43m=\u001b[39;49m\u001b[43msession\u001b[49m\u001b[43m,\u001b[49m\u001b[43m \u001b[49m\u001b[43mparent\u001b[49m\u001b[38;5;241;43m=\u001b[39;49m\u001b[38;5;241;43m0\u001b[39;49m\u001b[43m)\u001b[49m\n\u001b[0;32m      2\u001b[0m \u001b[38;5;66;03m#get_latest_datablock(db=session, block=3).version\u001b[39;00m\n",
      "File \u001b[1;32m~\\astraia-repos\\fapiastr\\crud\\sequences.py:21\u001b[0m, in \u001b[0;36mget_root_sequences\u001b[1;34m(db, parent)\u001b[0m\n\u001b[0;32m     19\u001b[0m seqdict[\u001b[38;5;124m'\u001b[39m\u001b[38;5;124mid\u001b[39m\u001b[38;5;124m'\u001b[39m] \u001b[38;5;241m=\u001b[39m sqen\u001b[38;5;241m.\u001b[39mid\n\u001b[0;32m     20\u001b[0m seqdict[\u001b[38;5;124m'\u001b[39m\u001b[38;5;124mdna\u001b[39m\u001b[38;5;124m'\u001b[39m] \u001b[38;5;241m=\u001b[39m get_lang(db\u001b[38;5;241m=\u001b[39mdb, dna\u001b[38;5;241m=\u001b[39msqen\u001b[38;5;241m.\u001b[39mdna)\u001b[38;5;241m.\u001b[39men\n\u001b[1;32m---> 21\u001b[0m seqdict[\u001b[38;5;124m'\u001b[39m\u001b[38;5;124mchildren\u001b[39m\u001b[38;5;124m'\u001b[39m] \u001b[38;5;241m=\u001b[39m \u001b[43mget_root_sequences\u001b[49m\u001b[43m(\u001b[49m\u001b[43mdb\u001b[49m\u001b[38;5;241;43m=\u001b[39;49m\u001b[43mdb\u001b[49m\u001b[43m,\u001b[49m\u001b[43m \u001b[49m\u001b[43mparent\u001b[49m\u001b[38;5;241;43m=\u001b[39;49m\u001b[43msqen\u001b[49m\u001b[38;5;241;43m.\u001b[39;49m\u001b[43mid\u001b[49m\u001b[43m)\u001b[49m\n\u001b[0;32m     22\u001b[0m seqdict[\u001b[38;5;124m'\u001b[39m\u001b[38;5;124mblocks\u001b[39m\u001b[38;5;124m'\u001b[39m] \u001b[38;5;241m=\u001b[39m get_datablocks_by_sequence(db\u001b[38;5;241m=\u001b[39mdb, sequence\u001b[38;5;241m=\u001b[39msqen\u001b[38;5;241m.\u001b[39mid)\n\u001b[0;32m     23\u001b[0m seqlist \u001b[38;5;241m+\u001b[39m\u001b[38;5;241m=\u001b[39m [{\u001b[38;5;241m*\u001b[39m\u001b[38;5;241m*\u001b[39mseqdict}]\n",
      "File \u001b[1;32m~\\astraia-repos\\fapiastr\\crud\\sequences.py:21\u001b[0m, in \u001b[0;36mget_root_sequences\u001b[1;34m(db, parent)\u001b[0m\n\u001b[0;32m     19\u001b[0m seqdict[\u001b[38;5;124m'\u001b[39m\u001b[38;5;124mid\u001b[39m\u001b[38;5;124m'\u001b[39m] \u001b[38;5;241m=\u001b[39m sqen\u001b[38;5;241m.\u001b[39mid\n\u001b[0;32m     20\u001b[0m seqdict[\u001b[38;5;124m'\u001b[39m\u001b[38;5;124mdna\u001b[39m\u001b[38;5;124m'\u001b[39m] \u001b[38;5;241m=\u001b[39m get_lang(db\u001b[38;5;241m=\u001b[39mdb, dna\u001b[38;5;241m=\u001b[39msqen\u001b[38;5;241m.\u001b[39mdna)\u001b[38;5;241m.\u001b[39men\n\u001b[1;32m---> 21\u001b[0m seqdict[\u001b[38;5;124m'\u001b[39m\u001b[38;5;124mchildren\u001b[39m\u001b[38;5;124m'\u001b[39m] \u001b[38;5;241m=\u001b[39m \u001b[43mget_root_sequences\u001b[49m\u001b[43m(\u001b[49m\u001b[43mdb\u001b[49m\u001b[38;5;241;43m=\u001b[39;49m\u001b[43mdb\u001b[49m\u001b[43m,\u001b[49m\u001b[43m \u001b[49m\u001b[43mparent\u001b[49m\u001b[38;5;241;43m=\u001b[39;49m\u001b[43msqen\u001b[49m\u001b[38;5;241;43m.\u001b[39;49m\u001b[43mid\u001b[49m\u001b[43m)\u001b[49m\n\u001b[0;32m     22\u001b[0m seqdict[\u001b[38;5;124m'\u001b[39m\u001b[38;5;124mblocks\u001b[39m\u001b[38;5;124m'\u001b[39m] \u001b[38;5;241m=\u001b[39m get_datablocks_by_sequence(db\u001b[38;5;241m=\u001b[39mdb, sequence\u001b[38;5;241m=\u001b[39msqen\u001b[38;5;241m.\u001b[39mid)\n\u001b[0;32m     23\u001b[0m seqlist \u001b[38;5;241m+\u001b[39m\u001b[38;5;241m=\u001b[39m [{\u001b[38;5;241m*\u001b[39m\u001b[38;5;241m*\u001b[39mseqdict}]\n",
      "File \u001b[1;32m~\\astraia-repos\\fapiastr\\crud\\sequences.py:22\u001b[0m, in \u001b[0;36mget_root_sequences\u001b[1;34m(db, parent)\u001b[0m\n\u001b[0;32m     20\u001b[0m     seqdict[\u001b[38;5;124m'\u001b[39m\u001b[38;5;124mdna\u001b[39m\u001b[38;5;124m'\u001b[39m] \u001b[38;5;241m=\u001b[39m get_lang(db\u001b[38;5;241m=\u001b[39mdb, dna\u001b[38;5;241m=\u001b[39msqen\u001b[38;5;241m.\u001b[39mdna)\u001b[38;5;241m.\u001b[39men\n\u001b[0;32m     21\u001b[0m     seqdict[\u001b[38;5;124m'\u001b[39m\u001b[38;5;124mchildren\u001b[39m\u001b[38;5;124m'\u001b[39m] \u001b[38;5;241m=\u001b[39m get_root_sequences(db\u001b[38;5;241m=\u001b[39mdb, parent\u001b[38;5;241m=\u001b[39msqen\u001b[38;5;241m.\u001b[39mid)\n\u001b[1;32m---> 22\u001b[0m     seqdict[\u001b[38;5;124m'\u001b[39m\u001b[38;5;124mblocks\u001b[39m\u001b[38;5;124m'\u001b[39m] \u001b[38;5;241m=\u001b[39m \u001b[43mget_datablocks_by_sequence\u001b[49m\u001b[43m(\u001b[49m\u001b[43mdb\u001b[49m\u001b[38;5;241;43m=\u001b[39;49m\u001b[43mdb\u001b[49m\u001b[43m,\u001b[49m\u001b[43m \u001b[49m\u001b[43msequence\u001b[49m\u001b[38;5;241;43m=\u001b[39;49m\u001b[43msqen\u001b[49m\u001b[38;5;241;43m.\u001b[39;49m\u001b[43mid\u001b[49m\u001b[43m)\u001b[49m\n\u001b[0;32m     23\u001b[0m     seqlist \u001b[38;5;241m+\u001b[39m\u001b[38;5;241m=\u001b[39m [{\u001b[38;5;241m*\u001b[39m\u001b[38;5;241m*\u001b[39mseqdict}]\n\u001b[0;32m     24\u001b[0m \u001b[38;5;28;01mreturn\u001b[39;00m seqlist\n",
      "File \u001b[1;32m~\\astraia-repos\\fapiastr\\crud\\datablock.py:41\u001b[0m, in \u001b[0;36mget_datablocks_by_sequence\u001b[1;34m(db, sequence)\u001b[0m\n\u001b[0;32m     39\u001b[0m blocks \u001b[38;5;241m=\u001b[39m []\n\u001b[0;32m     40\u001b[0m \u001b[38;5;28;01mfor\u001b[39;00m sqdata \u001b[38;5;129;01min\u001b[39;00m sequencedatas\u001b[38;5;241m.\u001b[39mall():\n\u001b[1;32m---> 41\u001b[0m     block \u001b[38;5;241m=\u001b[39m \u001b[43mget_datablock_with_children\u001b[49m\u001b[43m(\u001b[49m\u001b[43mdb\u001b[49m\u001b[38;5;241;43m=\u001b[39;49m\u001b[43mdb\u001b[49m\u001b[43m,\u001b[49m\u001b[43m \u001b[49m\u001b[43mblock\u001b[49m\u001b[38;5;241;43m=\u001b[39;49m\u001b[43msqdata\u001b[49m\u001b[38;5;241;43m.\u001b[39;49m\u001b[43mblock\u001b[49m\u001b[43m)\u001b[49m\n\u001b[0;32m     42\u001b[0m     blocks \u001b[38;5;241m+\u001b[39m\u001b[38;5;241m=\u001b[39m [block]\n\u001b[0;32m     43\u001b[0m \u001b[38;5;28;01mreturn\u001b[39;00m blocks\n",
      "File \u001b[1;32m~\\astraia-repos\\fapiastr\\crud\\datablock.py:30\u001b[0m, in \u001b[0;36mget_datablock_with_children\u001b[1;34m(db, block)\u001b[0m\n\u001b[0;32m     28\u001b[0m         allsubblocks \u001b[38;5;241m+\u001b[39m\u001b[38;5;241m=\u001b[39m details\n\u001b[0;32m     29\u001b[0m \u001b[38;5;28;01mfor\u001b[39;00m subblock \u001b[38;5;129;01min\u001b[39;00m allsubblocks:\n\u001b[1;32m---> 30\u001b[0m     childrenlist \u001b[38;5;241m+\u001b[39m\u001b[38;5;241m=\u001b[39m [get_datablock_with_children(db\u001b[38;5;241m=\u001b[39mdb, block\u001b[38;5;241m=\u001b[39m\u001b[38;5;28;43mint\u001b[39;49m\u001b[43m(\u001b[49m\u001b[43msubblock\u001b[49m\u001b[43m)\u001b[49m)]\n\u001b[0;32m     31\u001b[0m datablockdict[\u001b[38;5;124m'\u001b[39m\u001b[38;5;124mblockchildren\u001b[39m\u001b[38;5;124m'\u001b[39m] \u001b[38;5;241m=\u001b[39m childrenlist \n\u001b[0;32m     32\u001b[0m \u001b[38;5;28;01mreturn\u001b[39;00m datablockdict\n",
      "\u001b[1;31mValueError\u001b[0m: invalid literal for int() with base 10: '643;3'"
     ]
    }
   ],
   "source": [
    "get_root_sequences(db=session, parent=0)\n",
    "#get_latest_datablock(db=session, block=3).version"
   ]
  },
  {
   "cell_type": "code",
   "execution_count": null,
   "id": "94fce51a",
   "metadata": {},
   "outputs": [],
   "source": [
    "block60 = session.query(DataBlock).get(60)"
   ]
  },
  {
   "cell_type": "code",
   "execution_count": null,
   "id": "2f7d81c0",
   "metadata": {},
   "outputs": [],
   "source": [
    "data = session.query(SequenceData).filter(SequenceData.block==133)"
   ]
  },
  {
   "cell_type": "code",
   "execution_count": null,
   "id": "4ec1cb2b",
   "metadata": {},
   "outputs": [],
   "source": [
    "data.count()"
   ]
  },
  {
   "cell_type": "code",
   "execution_count": null,
   "id": "f52890cd",
   "metadata": {},
   "outputs": [],
   "source": [
    "data.all()[0].sequence"
   ]
  },
  {
   "cell_type": "code",
   "execution_count": null,
   "id": "749babdd",
   "metadata": {},
   "outputs": [],
   "source": [
    "sequence = session.query(Sequence).filter(Sequence.id==data.all()[0].sequence)"
   ]
  },
  {
   "cell_type": "code",
   "execution_count": null,
   "id": "6ba460a8",
   "metadata": {},
   "outputs": [],
   "source": [
    "sequence.all()[0].dna"
   ]
  },
  {
   "cell_type": "code",
   "execution_count": null,
   "id": "77613497",
   "metadata": {},
   "outputs": [],
   "source": [
    "sequence.all()[0].parent"
   ]
  }
 ],
 "metadata": {
  "kernelspec": {
   "display_name": "Python 3 (ipykernel)",
   "language": "python",
   "name": "python3"
  },
  "language_info": {
   "codemirror_mode": {
    "name": "ipython",
    "version": 3
   },
   "file_extension": ".py",
   "mimetype": "text/x-python",
   "name": "python",
   "nbconvert_exporter": "python",
   "pygments_lexer": "ipython3",
   "version": "3.10.11"
  }
 },
 "nbformat": 4,
 "nbformat_minor": 5
}
