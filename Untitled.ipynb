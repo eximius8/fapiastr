{
 "cells": [
  {
   "cell_type": "code",
   "execution_count": 1,
   "id": "ee5bc0d4",
   "metadata": {},
   "outputs": [
    {
     "ename": "ArgumentError",
     "evalue": "Type annotation for \"Sequence.dna\" can't be correctly interpreted for Annotated Declarative Table form.  ORM annotations should normally make use of the ``Mapped[]`` generic type, or other ORM-compatible generic type, as a container for the actual type, which indicates the intent that the attribute is mapped. Class variables that are not intended to be mapped by the ORM should use ClassVar[].  To allow Annotated Declarative to disregard legacy annotations which don't use Mapped[] to pass, set \"__allow_unmapped__ = True\" on the class or a superclass this class. (Background on this error at: https://sqlalche.me/e/20/zlpr)",
     "output_type": "error",
     "traceback": [
      "\u001b[1;31m---------------------------------------------------------------------------\u001b[0m",
      "\u001b[1;31mArgumentError\u001b[0m                             Traceback (most recent call last)",
      "Cell \u001b[1;32mIn[1], line 2\u001b[0m\n\u001b[0;32m      1\u001b[0m \u001b[38;5;28;01mfrom\u001b[39;00m \u001b[38;5;21;01mmodels\u001b[39;00m\u001b[38;5;21;01m.\u001b[39;00m\u001b[38;5;21;01mdatablock\u001b[39;00m \u001b[38;5;28;01mimport\u001b[39;00m DataBlock\n\u001b[1;32m----> 2\u001b[0m \u001b[38;5;28;01mfrom\u001b[39;00m \u001b[38;5;21;01mmodels\u001b[39;00m\u001b[38;5;21;01m.\u001b[39;00m\u001b[38;5;21;01msequences\u001b[39;00m \u001b[38;5;28;01mimport\u001b[39;00m SequenceData, Sequence\n\u001b[0;32m      3\u001b[0m \u001b[38;5;28;01mfrom\u001b[39;00m \u001b[38;5;21;01mdbutils\u001b[39;00m\u001b[38;5;21;01m.\u001b[39;00m\u001b[38;5;21;01mdbconnect\u001b[39;00m \u001b[38;5;28;01mimport\u001b[39;00m loadSession\n\u001b[0;32m      4\u001b[0m session \u001b[38;5;241m=\u001b[39m loadSession()\n",
      "File \u001b[1;32m~\\astraia-repos\\fapiastr\\models\\sequences.py:22\u001b[0m\n\u001b[0;32m     16\u001b[0m     __tablename__ \u001b[38;5;241m=\u001b[39m \u001b[38;5;124m'\u001b[39m\u001b[38;5;124mSequenceData\u001b[39m\u001b[38;5;124m'\u001b[39m\n\u001b[0;32m     17\u001b[0m     __table_args__ \u001b[38;5;241m=\u001b[39m (\n\u001b[0;32m     18\u001b[0m         PrimaryKeyConstraint(sequence, block), \n\u001b[0;32m     19\u001b[0m     )\n\u001b[1;32m---> 22\u001b[0m \u001b[38;5;28;01mclass\u001b[39;00m \u001b[38;5;21;01mSequence\u001b[39;00m(Base):\n\u001b[0;32m     24\u001b[0m     \u001b[38;5;28mid\u001b[39m \u001b[38;5;241m=\u001b[39m Column(\u001b[38;5;124m'\u001b[39m\u001b[38;5;124mid\u001b[39m\u001b[38;5;124m'\u001b[39m, Integer, nullable\u001b[38;5;241m=\u001b[39m\u001b[38;5;28;01mFalse\u001b[39;00m)\n\u001b[0;32m     25\u001b[0m     setname \u001b[38;5;241m=\u001b[39m Column(\u001b[38;5;124m'\u001b[39m\u001b[38;5;124msetname\u001b[39m\u001b[38;5;124m'\u001b[39m, VARCHAR(length\u001b[38;5;241m=\u001b[39m\u001b[38;5;241m20\u001b[39m), nullable\u001b[38;5;241m=\u001b[39m\u001b[38;5;28;01mFalse\u001b[39;00m)\n",
      "File \u001b[1;32m~\\astraia-repos\\fapiastr\\env\\lib\\site-packages\\sqlalchemy\\orm\\decl_api.py:193\u001b[0m, in \u001b[0;36mDeclarativeMeta.__init__\u001b[1;34m(cls, classname, bases, dict_, **kw)\u001b[0m\n\u001b[0;32m    190\u001b[0m         \u001b[38;5;28mcls\u001b[39m\u001b[38;5;241m.\u001b[39m_sa_registry \u001b[38;5;241m=\u001b[39m reg\n\u001b[0;32m    192\u001b[0m \u001b[38;5;28;01mif\u001b[39;00m \u001b[38;5;129;01mnot\u001b[39;00m \u001b[38;5;28mcls\u001b[39m\u001b[38;5;241m.\u001b[39m\u001b[38;5;18m__dict__\u001b[39m\u001b[38;5;241m.\u001b[39mget(\u001b[38;5;124m\"\u001b[39m\u001b[38;5;124m__abstract__\u001b[39m\u001b[38;5;124m\"\u001b[39m, \u001b[38;5;28;01mFalse\u001b[39;00m):\n\u001b[1;32m--> 193\u001b[0m     \u001b[43m_as_declarative\u001b[49m\u001b[43m(\u001b[49m\u001b[43mreg\u001b[49m\u001b[43m,\u001b[49m\u001b[43m \u001b[49m\u001b[38;5;28;43mcls\u001b[39;49m\u001b[43m,\u001b[49m\u001b[43m \u001b[49m\u001b[43mdict_\u001b[49m\u001b[43m)\u001b[49m\n\u001b[0;32m    194\u001b[0m \u001b[38;5;28mtype\u001b[39m\u001b[38;5;241m.\u001b[39m\u001b[38;5;21m__init__\u001b[39m(\u001b[38;5;28mcls\u001b[39m, classname, bases, dict_)\n",
      "File \u001b[1;32m~\\astraia-repos\\fapiastr\\env\\lib\\site-packages\\sqlalchemy\\orm\\decl_base.py:247\u001b[0m, in \u001b[0;36m_as_declarative\u001b[1;34m(registry, cls, dict_)\u001b[0m\n\u001b[0;32m    242\u001b[0m \u001b[38;5;28;01mdef\u001b[39;00m \u001b[38;5;21m_as_declarative\u001b[39m(\n\u001b[0;32m    243\u001b[0m     registry: _RegistryType, \u001b[38;5;28mcls\u001b[39m: Type[Any], dict_: _ClassDict\n\u001b[0;32m    244\u001b[0m ) \u001b[38;5;241m-\u001b[39m\u001b[38;5;241m>\u001b[39m Optional[_MapperConfig]:\n\u001b[0;32m    245\u001b[0m     \u001b[38;5;66;03m# declarative scans the class for attributes.  no table or mapper\u001b[39;00m\n\u001b[0;32m    246\u001b[0m     \u001b[38;5;66;03m# args passed separately.\u001b[39;00m\n\u001b[1;32m--> 247\u001b[0m     \u001b[38;5;28;01mreturn\u001b[39;00m \u001b[43m_MapperConfig\u001b[49m\u001b[38;5;241;43m.\u001b[39;49m\u001b[43msetup_mapping\u001b[49m\u001b[43m(\u001b[49m\u001b[43mregistry\u001b[49m\u001b[43m,\u001b[49m\u001b[43m \u001b[49m\u001b[38;5;28;43mcls\u001b[39;49m\u001b[43m,\u001b[49m\u001b[43m \u001b[49m\u001b[43mdict_\u001b[49m\u001b[43m,\u001b[49m\u001b[43m \u001b[49m\u001b[38;5;28;43;01mNone\u001b[39;49;00m\u001b[43m,\u001b[49m\u001b[43m \u001b[49m\u001b[43m{\u001b[49m\u001b[43m}\u001b[49m\u001b[43m)\u001b[49m\n",
      "File \u001b[1;32m~\\astraia-repos\\fapiastr\\env\\lib\\site-packages\\sqlalchemy\\orm\\decl_base.py:328\u001b[0m, in \u001b[0;36m_MapperConfig.setup_mapping\u001b[1;34m(cls, registry, cls_, dict_, table, mapper_kw)\u001b[0m\n\u001b[0;32m    324\u001b[0m     \u001b[38;5;28;01mreturn\u001b[39;00m _DeferredMapperConfig(\n\u001b[0;32m    325\u001b[0m         registry, cls_, dict_, table, mapper_kw\n\u001b[0;32m    326\u001b[0m     )\n\u001b[0;32m    327\u001b[0m \u001b[38;5;28;01melse\u001b[39;00m:\n\u001b[1;32m--> 328\u001b[0m     \u001b[38;5;28;01mreturn\u001b[39;00m \u001b[43m_ClassScanMapperConfig\u001b[49m\u001b[43m(\u001b[49m\n\u001b[0;32m    329\u001b[0m \u001b[43m        \u001b[49m\u001b[43mregistry\u001b[49m\u001b[43m,\u001b[49m\u001b[43m \u001b[49m\u001b[43mcls_\u001b[49m\u001b[43m,\u001b[49m\u001b[43m \u001b[49m\u001b[43mdict_\u001b[49m\u001b[43m,\u001b[49m\u001b[43m \u001b[49m\u001b[43mtable\u001b[49m\u001b[43m,\u001b[49m\u001b[43m \u001b[49m\u001b[43mmapper_kw\u001b[49m\n\u001b[0;32m    330\u001b[0m \u001b[43m    \u001b[49m\u001b[43m)\u001b[49m\n",
      "File \u001b[1;32m~\\astraia-repos\\fapiastr\\env\\lib\\site-packages\\sqlalchemy\\orm\\decl_base.py:563\u001b[0m, in \u001b[0;36m_ClassScanMapperConfig.__init__\u001b[1;34m(self, registry, cls_, dict_, table, mapper_kw)\u001b[0m\n\u001b[0;32m    559\u001b[0m \u001b[38;5;28mself\u001b[39m\u001b[38;5;241m.\u001b[39mallow_dataclass_fields \u001b[38;5;241m=\u001b[39m \u001b[38;5;28mbool\u001b[39m(sdk \u001b[38;5;129;01mand\u001b[39;00m cld)\n\u001b[0;32m    561\u001b[0m \u001b[38;5;28mself\u001b[39m\u001b[38;5;241m.\u001b[39m_setup_declared_events()\n\u001b[1;32m--> 563\u001b[0m \u001b[38;5;28;43mself\u001b[39;49m\u001b[38;5;241;43m.\u001b[39;49m\u001b[43m_scan_attributes\u001b[49m\u001b[43m(\u001b[49m\u001b[43m)\u001b[49m\n\u001b[0;32m    565\u001b[0m \u001b[38;5;28mself\u001b[39m\u001b[38;5;241m.\u001b[39m_setup_dataclasses_transforms()\n\u001b[0;32m    567\u001b[0m \u001b[38;5;28;01mwith\u001b[39;00m mapperlib\u001b[38;5;241m.\u001b[39m_CONFIGURE_MUTEX:\n",
      "File \u001b[1;32m~\\astraia-repos\\fapiastr\\env\\lib\\site-packages\\sqlalchemy\\orm\\decl_base.py:1006\u001b[0m, in \u001b[0;36m_ClassScanMapperConfig._scan_attributes\u001b[1;34m(self)\u001b[0m\n\u001b[0;32m   1002\u001b[0m     \u001b[38;5;28mself\u001b[39m\u001b[38;5;241m.\u001b[39m_collect_annotation(\n\u001b[0;32m   1003\u001b[0m         name, annotation, base, \u001b[38;5;28;01mFalse\u001b[39;00m, obj\n\u001b[0;32m   1004\u001b[0m     )\n\u001b[0;32m   1005\u001b[0m \u001b[38;5;28;01melse\u001b[39;00m:\n\u001b[1;32m-> 1006\u001b[0m     collected_annotation \u001b[38;5;241m=\u001b[39m \u001b[38;5;28;43mself\u001b[39;49m\u001b[38;5;241;43m.\u001b[39;49m\u001b[43m_collect_annotation\u001b[49m\u001b[43m(\u001b[49m\n\u001b[0;32m   1007\u001b[0m \u001b[43m        \u001b[49m\u001b[43mname\u001b[49m\u001b[43m,\u001b[49m\u001b[43m \u001b[49m\u001b[43mannotation\u001b[49m\u001b[43m,\u001b[49m\u001b[43m \u001b[49m\u001b[43mbase\u001b[49m\u001b[43m,\u001b[49m\u001b[43m \u001b[49m\u001b[38;5;28;43;01mNone\u001b[39;49;00m\u001b[43m,\u001b[49m\u001b[43m \u001b[49m\u001b[43mobj\u001b[49m\n\u001b[0;32m   1008\u001b[0m \u001b[43m    \u001b[49m\u001b[43m)\u001b[49m\n\u001b[0;32m   1009\u001b[0m     is_mapped \u001b[38;5;241m=\u001b[39m (\n\u001b[0;32m   1010\u001b[0m         collected_annotation \u001b[38;5;129;01mis\u001b[39;00m \u001b[38;5;129;01mnot\u001b[39;00m \u001b[38;5;28;01mNone\u001b[39;00m\n\u001b[0;32m   1011\u001b[0m         \u001b[38;5;129;01mand\u001b[39;00m collected_annotation\u001b[38;5;241m.\u001b[39mmapped_container \u001b[38;5;129;01mis\u001b[39;00m \u001b[38;5;129;01mnot\u001b[39;00m \u001b[38;5;28;01mNone\u001b[39;00m\n\u001b[0;32m   1012\u001b[0m     )\n\u001b[0;32m   1013\u001b[0m     generated_obj \u001b[38;5;241m=\u001b[39m (\n\u001b[0;32m   1014\u001b[0m         collected_annotation\u001b[38;5;241m.\u001b[39mattr_value\n\u001b[0;32m   1015\u001b[0m         \u001b[38;5;28;01mif\u001b[39;00m collected_annotation \u001b[38;5;129;01mis\u001b[39;00m \u001b[38;5;129;01mnot\u001b[39;00m \u001b[38;5;28;01mNone\u001b[39;00m\n\u001b[0;32m   1016\u001b[0m         \u001b[38;5;28;01melse\u001b[39;00m obj\n\u001b[0;32m   1017\u001b[0m     )\n",
      "File \u001b[1;32m~\\astraia-repos\\fapiastr\\env\\lib\\site-packages\\sqlalchemy\\orm\\decl_base.py:1277\u001b[0m, in \u001b[0;36m_ClassScanMapperConfig._collect_annotation\u001b[1;34m(self, name, raw_annotation, originating_class, expect_mapped, attr_value)\u001b[0m\n\u001b[0;32m   1274\u001b[0m     is_dataclass_field \u001b[38;5;241m=\u001b[39m \u001b[38;5;28;01mFalse\u001b[39;00m\n\u001b[0;32m   1276\u001b[0m is_dataclass_field \u001b[38;5;241m=\u001b[39m \u001b[38;5;28;01mFalse\u001b[39;00m\n\u001b[1;32m-> 1277\u001b[0m extracted \u001b[38;5;241m=\u001b[39m \u001b[43m_extract_mapped_subtype\u001b[49m\u001b[43m(\u001b[49m\n\u001b[0;32m   1278\u001b[0m \u001b[43m    \u001b[49m\u001b[43mraw_annotation\u001b[49m\u001b[43m,\u001b[49m\n\u001b[0;32m   1279\u001b[0m \u001b[43m    \u001b[49m\u001b[38;5;28;43mself\u001b[39;49m\u001b[38;5;241;43m.\u001b[39;49m\u001b[43mcls\u001b[49m\u001b[43m,\u001b[49m\n\u001b[0;32m   1280\u001b[0m \u001b[43m    \u001b[49m\u001b[43moriginating_class\u001b[49m\u001b[38;5;241;43m.\u001b[39;49m\u001b[38;5;18;43m__module__\u001b[39;49m\u001b[43m,\u001b[49m\n\u001b[0;32m   1281\u001b[0m \u001b[43m    \u001b[49m\u001b[43mname\u001b[49m\u001b[43m,\u001b[49m\n\u001b[0;32m   1282\u001b[0m \u001b[43m    \u001b[49m\u001b[38;5;28;43mtype\u001b[39;49m\u001b[43m(\u001b[49m\u001b[43mattr_value\u001b[49m\u001b[43m)\u001b[49m\u001b[43m,\u001b[49m\n\u001b[0;32m   1283\u001b[0m \u001b[43m    \u001b[49m\u001b[43mrequired\u001b[49m\u001b[38;5;241;43m=\u001b[39;49m\u001b[38;5;28;43;01mFalse\u001b[39;49;00m\u001b[43m,\u001b[49m\n\u001b[0;32m   1284\u001b[0m \u001b[43m    \u001b[49m\u001b[43mis_dataclass_field\u001b[49m\u001b[38;5;241;43m=\u001b[39;49m\u001b[43mis_dataclass_field\u001b[49m\u001b[43m,\u001b[49m\n\u001b[0;32m   1285\u001b[0m \u001b[43m    \u001b[49m\u001b[43mexpect_mapped\u001b[49m\u001b[38;5;241;43m=\u001b[39;49m\u001b[43mexpect_mapped\u001b[49m\n\u001b[0;32m   1286\u001b[0m \u001b[43m    \u001b[49m\u001b[38;5;129;43;01mand\u001b[39;49;00m\u001b[43m \u001b[49m\u001b[38;5;129;43;01mnot\u001b[39;49;00m\u001b[43m \u001b[49m\u001b[43mis_dataclass\u001b[49m\u001b[43m,\u001b[49m\u001b[43m  \u001b[49m\u001b[38;5;66;43;03m# self.allow_dataclass_fields,\u001b[39;49;00m\n\u001b[0;32m   1287\u001b[0m \u001b[43m\u001b[49m\u001b[43m)\u001b[49m\n\u001b[0;32m   1289\u001b[0m \u001b[38;5;28;01mif\u001b[39;00m extracted \u001b[38;5;129;01mis\u001b[39;00m \u001b[38;5;28;01mNone\u001b[39;00m:\n\u001b[0;32m   1290\u001b[0m     \u001b[38;5;66;03m# ClassVar can come out here\u001b[39;00m\n\u001b[0;32m   1291\u001b[0m     \u001b[38;5;28;01mreturn\u001b[39;00m \u001b[38;5;28;01mNone\u001b[39;00m\n",
      "File \u001b[1;32m~\\astraia-repos\\fapiastr\\env\\lib\\site-packages\\sqlalchemy\\orm\\util.py:2356\u001b[0m, in \u001b[0;36m_extract_mapped_subtype\u001b[1;34m(raw_annotation, cls, originating_module, key, attr_cls, required, is_dataclass_field, expect_mapped, raiseerr)\u001b[0m\n\u001b[0;32m   2353\u001b[0m     \u001b[38;5;28;01mif\u001b[39;00m \u001b[38;5;129;01mnot\u001b[39;00m raiseerr:\n\u001b[0;32m   2354\u001b[0m         \u001b[38;5;28;01mreturn\u001b[39;00m \u001b[38;5;28;01mNone\u001b[39;00m\n\u001b[1;32m-> 2356\u001b[0m     \u001b[38;5;28;01mraise\u001b[39;00m sa_exc\u001b[38;5;241m.\u001b[39mArgumentError(\n\u001b[0;32m   2357\u001b[0m         \u001b[38;5;124mf\u001b[39m\u001b[38;5;124m'\u001b[39m\u001b[38;5;124mType annotation for \u001b[39m\u001b[38;5;124m\"\u001b[39m\u001b[38;5;132;01m{\u001b[39;00m\u001b[38;5;28mcls\u001b[39m\u001b[38;5;241m.\u001b[39m\u001b[38;5;18m__name__\u001b[39m\u001b[38;5;132;01m}\u001b[39;00m\u001b[38;5;124m.\u001b[39m\u001b[38;5;132;01m{\u001b[39;00mkey\u001b[38;5;132;01m}\u001b[39;00m\u001b[38;5;124m\"\u001b[39m\u001b[38;5;124m \u001b[39m\u001b[38;5;124m'\u001b[39m\n\u001b[0;32m   2358\u001b[0m         \u001b[38;5;124m\"\u001b[39m\u001b[38;5;124mcan\u001b[39m\u001b[38;5;124m'\u001b[39m\u001b[38;5;124mt be correctly interpreted for \u001b[39m\u001b[38;5;124m\"\u001b[39m\n\u001b[0;32m   2359\u001b[0m         \u001b[38;5;124m\"\u001b[39m\u001b[38;5;124mAnnotated Declarative Table form.  ORM annotations \u001b[39m\u001b[38;5;124m\"\u001b[39m\n\u001b[0;32m   2360\u001b[0m         \u001b[38;5;124m\"\u001b[39m\u001b[38;5;124mshould normally make use of the ``Mapped[]`` generic \u001b[39m\u001b[38;5;124m\"\u001b[39m\n\u001b[0;32m   2361\u001b[0m         \u001b[38;5;124m\"\u001b[39m\u001b[38;5;124mtype, or other ORM-compatible generic type, as a \u001b[39m\u001b[38;5;124m\"\u001b[39m\n\u001b[0;32m   2362\u001b[0m         \u001b[38;5;124m\"\u001b[39m\u001b[38;5;124mcontainer for the actual type, which indicates the \u001b[39m\u001b[38;5;124m\"\u001b[39m\n\u001b[0;32m   2363\u001b[0m         \u001b[38;5;124m\"\u001b[39m\u001b[38;5;124mintent that the attribute is mapped. \u001b[39m\u001b[38;5;124m\"\u001b[39m\n\u001b[0;32m   2364\u001b[0m         \u001b[38;5;124m\"\u001b[39m\u001b[38;5;124mClass variables that are not intended to be mapped \u001b[39m\u001b[38;5;124m\"\u001b[39m\n\u001b[0;32m   2365\u001b[0m         \u001b[38;5;124m\"\u001b[39m\u001b[38;5;124mby the ORM should use ClassVar[].  \u001b[39m\u001b[38;5;124m\"\u001b[39m\n\u001b[0;32m   2366\u001b[0m         \u001b[38;5;124m\"\u001b[39m\u001b[38;5;124mTo allow Annotated Declarative to disregard legacy \u001b[39m\u001b[38;5;124m\"\u001b[39m\n\u001b[0;32m   2367\u001b[0m         \u001b[38;5;124m\"\u001b[39m\u001b[38;5;124mannotations which don\u001b[39m\u001b[38;5;124m'\u001b[39m\u001b[38;5;124mt use Mapped[] to pass, set \u001b[39m\u001b[38;5;124m\"\u001b[39m\n\u001b[0;32m   2368\u001b[0m         \u001b[38;5;124m'\u001b[39m\u001b[38;5;124m\"\u001b[39m\u001b[38;5;124m__allow_unmapped__ = True\u001b[39m\u001b[38;5;124m\"\u001b[39m\u001b[38;5;124m on the class or a \u001b[39m\u001b[38;5;124m'\u001b[39m\n\u001b[0;32m   2369\u001b[0m         \u001b[38;5;124m\"\u001b[39m\u001b[38;5;124msuperclass this class.\u001b[39m\u001b[38;5;124m\"\u001b[39m,\n\u001b[0;32m   2370\u001b[0m         code\u001b[38;5;241m=\u001b[39m\u001b[38;5;124m\"\u001b[39m\u001b[38;5;124mzlpr\u001b[39m\u001b[38;5;124m\"\u001b[39m,\n\u001b[0;32m   2371\u001b[0m     )\n\u001b[0;32m   2373\u001b[0m \u001b[38;5;28;01melse\u001b[39;00m:\n\u001b[0;32m   2374\u001b[0m     \u001b[38;5;28;01mreturn\u001b[39;00m annotated, \u001b[38;5;28;01mNone\u001b[39;00m\n",
      "\u001b[1;31mArgumentError\u001b[0m: Type annotation for \"Sequence.dna\" can't be correctly interpreted for Annotated Declarative Table form.  ORM annotations should normally make use of the ``Mapped[]`` generic type, or other ORM-compatible generic type, as a container for the actual type, which indicates the intent that the attribute is mapped. Class variables that are not intended to be mapped by the ORM should use ClassVar[].  To allow Annotated Declarative to disregard legacy annotations which don't use Mapped[] to pass, set \"__allow_unmapped__ = True\" on the class or a superclass this class. (Background on this error at: https://sqlalche.me/e/20/zlpr)"
     ]
    }
   ],
   "source": [
    "from models.datablock import DataBlock\n",
    "from models.sequences import SequenceData, Sequence\n",
    "from dbutils.dbconnect import loadSession\n",
    "session = loadSession()"
   ]
  },
  {
   "cell_type": "code",
   "execution_count": null,
   "id": "94fce51a",
   "metadata": {},
   "outputs": [],
   "source": [
    "block60 = session.query(DataBlock).get(60)"
   ]
  },
  {
   "cell_type": "code",
   "execution_count": null,
   "id": "2f7d81c0",
   "metadata": {},
   "outputs": [],
   "source": [
    "data = session.query(SequenceData).filter(SequenceData.block==133)"
   ]
  },
  {
   "cell_type": "code",
   "execution_count": null,
   "id": "4ec1cb2b",
   "metadata": {},
   "outputs": [],
   "source": [
    "data.count()"
   ]
  },
  {
   "cell_type": "code",
   "execution_count": null,
   "id": "f52890cd",
   "metadata": {},
   "outputs": [],
   "source": [
    "data.all()[0].sequence"
   ]
  },
  {
   "cell_type": "code",
   "execution_count": null,
   "id": "749babdd",
   "metadata": {},
   "outputs": [],
   "source": [
    "sequence = session.query(Sequence).filter(Sequence.id==data.all()[0].sequence)"
   ]
  },
  {
   "cell_type": "code",
   "execution_count": null,
   "id": "6ba460a8",
   "metadata": {},
   "outputs": [],
   "source": [
    "sequence.all()[0].dna"
   ]
  },
  {
   "cell_type": "code",
   "execution_count": null,
   "id": "77613497",
   "metadata": {},
   "outputs": [],
   "source": [
    "sequence.all()[0].parent"
   ]
  }
 ],
 "metadata": {
  "kernelspec": {
   "display_name": "Python 3 (ipykernel)",
   "language": "python",
   "name": "python3"
  },
  "language_info": {
   "codemirror_mode": {
    "name": "ipython",
    "version": 3
   },
   "file_extension": ".py",
   "mimetype": "text/x-python",
   "name": "python",
   "nbconvert_exporter": "python",
   "pygments_lexer": "ipython3",
   "version": "3.10.11"
  }
 },
 "nbformat": 4,
 "nbformat_minor": 5
}
